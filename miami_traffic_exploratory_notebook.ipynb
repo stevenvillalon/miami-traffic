{
 "cells": [
  {
   "cell_type": "markdown",
   "id": "cbbed74e",
   "metadata": {},
   "source": [
    "# Miami Traffic Incidents Exploratory Notebook"
   ]
  },
  {
   "cell_type": "code",
   "execution_count": 73,
   "id": "04341235",
   "metadata": {},
   "outputs": [],
   "source": [
    "# Load dependencies\n",
    "import pandas as pd\n",
    "import requests\n",
    "import json\n",
    "from google.cloud import bigquery\n",
    "from google.oauth2 import service_account\n",
    "import getpass"
   ]
  },
  {
   "cell_type": "code",
   "execution_count": 74,
   "id": "a757c089",
   "metadata": {},
   "outputs": [],
   "source": [
    "# Make the request to grab the data\n",
    "url = \"https://traffic.mdpd.com/api/traffic\"\n",
    "resp = requests.get(url)"
   ]
  },
  {
   "cell_type": "code",
   "execution_count": 75,
   "id": "8d191f66",
   "metadata": {},
   "outputs": [
    {
     "name": "stdout",
     "output_type": "stream",
     "text": [
      "<class 'str'>\n"
     ]
    },
    {
     "data": {
      "text/plain": [
       "'[{\"CreateTime\":\"2025-06-27T14:21:21\",\"Signal\":\"TRAFFIC ACCIDENT\",\"Address\":\"S SR836 OFF RAMP W / NW 87TH AVE\",\"Location\":\"NB\",\"Grid\":\"4239\",\"MapX\":null,\"MapY\":null,\"Longitude\":-80.3367784,\"Latitude\":25.78203843},{\"CreateTime\":\"2025-06-27T14:21:18\",\"Signal\":\"TRAFFIC ACCIDENT\",\"Address\":\"9301 W FLAGLER ST\",\"Location\":\"AT&T\",\"Grid\":\"1350\",\"MapX\":null,\"MapY\":null,\"Longitude\":-80.34794051,\"Latitude\":25.76927387},{\"CreateTime\":\"2025-06-27T14:18:19\",\"Signal\":\"TRAFFIC ACCIDENT\",\"Address\":\"SW 71ST AVE / SW 9TH ST\",\"Location\":\"\",\"Grid\":\"1399\",\"MapX\":null,\"MapY\":null,\"Longitude\":-80.31019306,\"Latitude\":25.76172957},{\"CreateTime\":\"2025-06-27T14:17:26\",\"Signal\":\"HIT AND RUN\",\"Address\":\"NW 165TH TER / NW 57TH AVE\",\"Location\":\"OCCD NB\",\"Grid\":\"0318\",\"MapX\":null,\"MapY\":null,\"Longitude\":-80.29316196,\"Latitude\":25.92333591},{\"CreateTime\":\"2025-06-27T14:10:51\",\"Signal\":\"TRAFFIC ACCIDENT\",\"Address\":\"NW 41ST ST / NW 107TH AVE\",\"Location\":\"\",\"Grid\":\"1002\",\"MapX\":null,\"MapY\":null,\"Longitude\":-80.36950021,\"Latitude\":25.81165048},{\"CreateTime\":\"2025-06-27T14:08:23\",\"Signal\":\"TRAFFIC ACCIDENT\",\"Address\":\"4299 NW 36TH ST\",\"Location\":\"\",\"Grid\":\"1014\",\"MapX\":null,\"MapY\":null,\"Longitude\":-80.26609551,\"Latitude\":25.80881196},{\"CreateTime\":\"2025-06-27T14:05:19\",\"Signal\":\"TRAFFIC ACCIDENT\",\"Address\":\"NW 167TH ST / NW 67TH AVE\",\"Location\":\"\",\"Grid\":\"3283\",\"MapX\":null,\"MapY\":null,\"Longitude\":-80.3093776,\"Latitude\":25.92444652},{\"CreateTime\":\"2025-06-27T14:04:47\",\"Signal\":\"TRAFFIC ACCIDENT\",\"Address\":\"8950 SW 88TH ST\",\"Location\":\"IFO MED ART BLDG P/LOT : LAT: <25.684493>  LONG: <-80.341036\",\"Grid\":\"1829\",\"MapX\":null,\"MapY\":null,\"Longitude\":-80.34035134,\"Latitude\":25.68761694},{\"CreateTime\":\"2025-06-27T14:02:23\",\"Signal\":\"TRAFFIC ACCIDENT\",\"Address\":\"12400 NW 7TH AVE\",\"Location\":\"COIN LAUNDRY\",\"Grid\":\"0540\",\"MapX\":null,\"MapY\":null,\"Longitude\":-80.21110636,\"Latitude\":25.88843915},{\"CreateTime\":\"2025-06-27T13:58:40\",\"Signal\":\"TRAFFIC ACCIDENT WITH INJURIES\",\"Address\":\"NW 183RD ST / NW 39TH CT\",\"Location\":\"\",\"Grid\":\"0108\",\"MapX\":null,\"MapY\":null,\"Longitude\":-80.26578309,\"Latitude\":25.94016247},{\"CreateTime\":\"2025-06-27T13:50:37\",\"Signal\":\"TRAFFIC ACCIDENT\",\"Address\":\"NW 33RD ST / NW 97TH AVE\",\"Location\":\"\",\"Grid\":\"1063\",\"MapX\":null,\"MapY\":null,\"Longitude\":-80.35335431,\"Latitude\":25.80437692},{\"CreateTime\":\"2025-06-27T13:44:28\",\"Signal\":\"TRAFFIC ACCIDENT\",\"Address\":\"11701 BISCAYNE BLVD\",\"Location\":\"P/LOT\",\"Grid\":\"0692\",\"MapX\":null,\"MapY\":null,\"Longitude\":-80.16506817,\"Latitude\":25.88371376},{\"CreateTime\":\"2025-06-27T13:33:54\",\"Signal\":\"HIT AND RUN JUST OCCURRED\",\"Address\":\"NW 125TH ST / NW 13TH AVE\",\"Location\":\"\",\"Grid\":\"0539\",\"MapX\":null,\"MapY\":null,\"Longitude\":-80.2203045,\"Latitude\":25.88879748},{\"CreateTime\":\"2025-06-27T13:28:50\",\"Signal\":\"TRAFFIC ACCIDENT\",\"Address\":\"13475 NW 17TH AVE\",\"Location\":\"\",\"Grid\":\"3480\",\"MapX\":null,\"MapY\":null,\"Longitude\":-80.22715093,\"Latitude\":25.89743161},{\"CreateTime\":\"2025-06-27T13:24:49\",\"Signal\":\"TRAFFIC ACCIDENT\",\"Address\":\"SW 4TH ST / SW 107TH AVE\",\"Location\":\"\",\"Grid\":\"1347\",\"MapX\":null,\"MapY\":null,\"Longitude\":-80.36869078,\"Latitude\":25.76486132},{\"CreateTime\":\"2025-06-27T13:24:49\",\"Signal\":\"TRAFFIC ACCIDENT\",\"Address\":\"SW 4TH ST / SW 107TH AVE\",\"Location\":\"\",\"Grid\":\"1347\",\"MapX\":null,\"MapY\":null,\"Longitude\":-80.36869078,\"Latitude\":25.76486132},{\"CreateTime\":\"2025-06-27T13:17:14\",\"Signal\":\"TRAFFIC ACCIDENT\",\"Address\":\"SW 72ND AVE / CORAL WAY\",\"Location\":\"S OF\",\"Grid\":\"1488\",\"MapX\":null,\"MapY\":null,\"Longitude\":-80.31155397,\"Latitude\":25.74813796},{\"CreateTime\":\"2025-06-27T13:17:14\",\"Signal\":\"TRAFFIC ACCIDENT\",\"Address\":\"SW 72ND AVE / CORAL WAY\",\"Location\":\"S OF\",\"Grid\":\"1488\",\"MapX\":null,\"MapY\":null,\"Longitude\":-80.31155397,\"Latitude\":25.74813796},{\"CreateTime\":\"2025-06-27T13:13:05\",\"Signal\":\"TRAFFIC ACCIDENT\",\"Address\":\"NW 17TH AVE / NW 135TH ST\",\"Location\":\"EB\",\"Grid\":\"0479\",\"MapX\":null,\"MapY\":null,\"Longitude\":-80.227372,\"Latitude\":25.89761024},{\"CreateTime\":\"2025-06-27T13:12:07\",\"Signal\":\"TRAFFIC ACCIDENT\",\"Address\":\"NW 72ND AVE / NW 56TH ST\",\"Location\":\"\",\"Grid\":\"0958\",\"MapX\":null,\"MapY\":null,\"Longitude\":-80.31369281,\"Latitude\":25.82438995},{\"CreateTime\":\"2025-06-27T12:55:15\",\"Signal\":\"HIT AND RUN\",\"Address\":\"SW 248TH ST / US1\",\"Location\":\"OCC ON 248TH ST\",\"Grid\":\"2405\",\"MapX\":null,\"MapY\":null,\"Longitude\":-80.41104545,\"Latitude\":25.53650109},{\"CreateTime\":\"2025-06-27T12:44:16\",\"Signal\":\"TRAFFIC ACCIDENT\",\"Address\":\"NW 87TH AVE / NW 12TH ST\",\"Location\":\"SB J N OF\",\"Grid\":\"1208\",\"MapX\":null,\"MapY\":null,\"Longitude\":-80.33665927,\"Latitude\":25.78354252},{\"CreateTime\":\"2025-06-27T12:30:55\",\"Signal\":\"TRAFFIC ACCIDENT\",\"Address\":\"NW 27TH AVE / OPA LOCKA BLVD\",\"Location\":\"\",\"Grid\":\"3387\",\"MapX\":null,\"MapY\":null,\"Longitude\":-80.24364068,\"Latitude\":25.89800865},{\"CreateTime\":\"2025-06-27T12:18:15\",\"Signal\":\"HIT AND RUN JUST OCCURRED\",\"Address\":\"600 CRANDON BLVD\",\"Location\":\"MESTIZO\",\"Grid\":\"1562\",\"MapX\":null,\"MapY\":null,\"Longitude\":-80.16437587,\"Latitude\":25.68996353},{\"CreateTime\":\"2025-06-27T11:44:23\",\"Signal\":\"TRAFFIC ACCIDENT\",\"Address\":\"NW 22ND AVE / NW 88TH ST\",\"Location\":\"\",\"Grid\":\"0738\",\"MapX\":null,\"MapY\":null,\"Longitude\":-80.23388027,\"Latitude\":25.85456929},{\"CreateTime\":\"2025-06-27T11:22:21\",\"Signal\":\"TRAFFIC ACCIDENT\",\"Address\":\"10891 NW 17TH ST\",\"Location\":\"\",\"Grid\":\"1144\",\"MapX\":null,\"MapY\":null,\"Longitude\":-80.37222555,\"Latitude\":25.79085454},{\"CreateTime\":\"2025-06-27T07:33:17\",\"Signal\":\"TRAFFIC ACCIDENT\",\"Address\":\"1015 N AMERICA WAY(POM)\",\"Location\":\"PORT / IFO TERMINAL F\",\"Grid\":\"1314\",\"MapX\":null,\"MapY\":null,\"Longitude\":-80.1779938,\"Latitude\":25.77856232},{\"CreateTime\":\"2025-06-27T05:53:58\",\"Signal\":\"TRAFFIC ACCIDENT WITH INJURIES\",\"Address\":\"NE 6TH AVE / NE 141ST ST\",\"Location\":\"\",\"Grid\":\"3394\",\"MapX\":null,\"MapY\":null,\"Longitude\":-80.18711594,\"Latitude\":25.90486512}]'"
      ]
     },
     "execution_count": 75,
     "metadata": {},
     "output_type": "execute_result"
    }
   ],
   "source": [
    "# Display raw results\n",
    "print(type(resp.text))\n",
    "resp.text"
   ]
  },
  {
   "cell_type": "code",
   "execution_count": 76,
   "id": "bd6222f9",
   "metadata": {},
   "outputs": [
    {
     "name": "stdout",
     "output_type": "stream",
     "text": [
      "<class 'list'>\n",
      "{'CreateTime': '2025-06-27T14:21:21', 'Signal': 'TRAFFIC ACCIDENT', 'Address': 'S SR836 OFF RAMP W / NW 87TH AVE', 'Location': 'NB', 'Grid': '4239', 'MapX': None, 'MapY': None, 'Longitude': -80.3367784, 'Latitude': 25.78203843}\n"
     ]
    }
   ],
   "source": [
    "# Parse the string inside the JSON response (converts from string to a list of dictionaries)\n",
    "incidents = json.loads(resp.text)\n",
    "\n",
    "# Explore the data\n",
    "print(type(incidents))\n",
    "print(incidents[0])"
   ]
  },
  {
   "cell_type": "code",
   "execution_count": 77,
   "id": "02d88653",
   "metadata": {},
   "outputs": [
    {
     "data": {
      "text/plain": [
       "28"
      ]
     },
     "execution_count": 77,
     "metadata": {},
     "output_type": "execute_result"
    }
   ],
   "source": [
    "# Check how many dictionaries in the list\n",
    "len(incidents)"
   ]
  },
  {
   "cell_type": "code",
   "execution_count": 78,
   "id": "ac5090a4",
   "metadata": {},
   "outputs": [
    {
     "data": {
      "text/plain": [
       "[{'CreateTime': '2025-06-27T14:21:21',\n",
       "  'Signal': 'TRAFFIC ACCIDENT',\n",
       "  'Address': 'S SR836 OFF RAMP W / NW 87TH AVE',\n",
       "  'Location': 'NB',\n",
       "  'Grid': '4239',\n",
       "  'MapX': None,\n",
       "  'MapY': None,\n",
       "  'Longitude': -80.3367784,\n",
       "  'Latitude': 25.78203843},\n",
       " {'CreateTime': '2025-06-27T14:21:18',\n",
       "  'Signal': 'TRAFFIC ACCIDENT',\n",
       "  'Address': '9301 W FLAGLER ST',\n",
       "  'Location': 'AT&T',\n",
       "  'Grid': '1350',\n",
       "  'MapX': None,\n",
       "  'MapY': None,\n",
       "  'Longitude': -80.34794051,\n",
       "  'Latitude': 25.76927387}]"
      ]
     },
     "execution_count": 78,
     "metadata": {},
     "output_type": "execute_result"
    }
   ],
   "source": [
    "# Inspect a few records\n",
    "incidents[0:2]"
   ]
  },
  {
   "cell_type": "code",
   "execution_count": 79,
   "id": "7e0748f3",
   "metadata": {},
   "outputs": [
    {
     "data": {
      "application/vnd.microsoft.datawrangler.viewer.v0+json": {
       "columns": [
        {
         "name": "index",
         "rawType": "int64",
         "type": "integer"
        },
        {
         "name": "CreateTime",
         "rawType": "object",
         "type": "string"
        },
        {
         "name": "Signal",
         "rawType": "object",
         "type": "string"
        },
        {
         "name": "Address",
         "rawType": "object",
         "type": "string"
        },
        {
         "name": "Location",
         "rawType": "object",
         "type": "string"
        },
        {
         "name": "Grid",
         "rawType": "object",
         "type": "string"
        },
        {
         "name": "MapX",
         "rawType": "object",
         "type": "unknown"
        },
        {
         "name": "MapY",
         "rawType": "object",
         "type": "unknown"
        },
        {
         "name": "Longitude",
         "rawType": "float64",
         "type": "float"
        },
        {
         "name": "Latitude",
         "rawType": "float64",
         "type": "float"
        }
       ],
       "ref": "f4456082-e07c-4ca7-95fb-bf93755be7bb",
       "rows": [
        [
         "0",
         "2025-06-27T14:21:21",
         "TRAFFIC ACCIDENT",
         "S SR836 OFF RAMP W / NW 87TH AVE",
         "NB",
         "4239",
         null,
         null,
         "-80.3367784",
         "25.78203843"
        ],
        [
         "1",
         "2025-06-27T14:21:18",
         "TRAFFIC ACCIDENT",
         "9301 W FLAGLER ST",
         "AT&T",
         "1350",
         null,
         null,
         "-80.34794051",
         "25.76927387"
        ],
        [
         "2",
         "2025-06-27T14:18:19",
         "TRAFFIC ACCIDENT",
         "SW 71ST AVE / SW 9TH ST",
         "",
         "1399",
         null,
         null,
         "-80.31019306",
         "25.76172957"
        ],
        [
         "3",
         "2025-06-27T14:17:26",
         "HIT AND RUN",
         "NW 165TH TER / NW 57TH AVE",
         "OCCD NB",
         "0318",
         null,
         null,
         "-80.29316196",
         "25.92333591"
        ],
        [
         "4",
         "2025-06-27T14:10:51",
         "TRAFFIC ACCIDENT",
         "NW 41ST ST / NW 107TH AVE",
         "",
         "1002",
         null,
         null,
         "-80.36950021",
         "25.81165048"
        ]
       ],
       "shape": {
        "columns": 9,
        "rows": 5
       }
      },
      "text/html": [
       "<div>\n",
       "<style scoped>\n",
       "    .dataframe tbody tr th:only-of-type {\n",
       "        vertical-align: middle;\n",
       "    }\n",
       "\n",
       "    .dataframe tbody tr th {\n",
       "        vertical-align: top;\n",
       "    }\n",
       "\n",
       "    .dataframe thead th {\n",
       "        text-align: right;\n",
       "    }\n",
       "</style>\n",
       "<table border=\"1\" class=\"dataframe\">\n",
       "  <thead>\n",
       "    <tr style=\"text-align: right;\">\n",
       "      <th></th>\n",
       "      <th>CreateTime</th>\n",
       "      <th>Signal</th>\n",
       "      <th>Address</th>\n",
       "      <th>Location</th>\n",
       "      <th>Grid</th>\n",
       "      <th>MapX</th>\n",
       "      <th>MapY</th>\n",
       "      <th>Longitude</th>\n",
       "      <th>Latitude</th>\n",
       "    </tr>\n",
       "  </thead>\n",
       "  <tbody>\n",
       "    <tr>\n",
       "      <th>0</th>\n",
       "      <td>2025-06-27T14:21:21</td>\n",
       "      <td>TRAFFIC ACCIDENT</td>\n",
       "      <td>S SR836 OFF RAMP W / NW 87TH AVE</td>\n",
       "      <td>NB</td>\n",
       "      <td>4239</td>\n",
       "      <td>None</td>\n",
       "      <td>None</td>\n",
       "      <td>-80.336778</td>\n",
       "      <td>25.782038</td>\n",
       "    </tr>\n",
       "    <tr>\n",
       "      <th>1</th>\n",
       "      <td>2025-06-27T14:21:18</td>\n",
       "      <td>TRAFFIC ACCIDENT</td>\n",
       "      <td>9301 W FLAGLER ST</td>\n",
       "      <td>AT&amp;T</td>\n",
       "      <td>1350</td>\n",
       "      <td>None</td>\n",
       "      <td>None</td>\n",
       "      <td>-80.347941</td>\n",
       "      <td>25.769274</td>\n",
       "    </tr>\n",
       "    <tr>\n",
       "      <th>2</th>\n",
       "      <td>2025-06-27T14:18:19</td>\n",
       "      <td>TRAFFIC ACCIDENT</td>\n",
       "      <td>SW 71ST AVE / SW 9TH ST</td>\n",
       "      <td></td>\n",
       "      <td>1399</td>\n",
       "      <td>None</td>\n",
       "      <td>None</td>\n",
       "      <td>-80.310193</td>\n",
       "      <td>25.761730</td>\n",
       "    </tr>\n",
       "    <tr>\n",
       "      <th>3</th>\n",
       "      <td>2025-06-27T14:17:26</td>\n",
       "      <td>HIT AND RUN</td>\n",
       "      <td>NW 165TH TER / NW 57TH AVE</td>\n",
       "      <td>OCCD NB</td>\n",
       "      <td>0318</td>\n",
       "      <td>None</td>\n",
       "      <td>None</td>\n",
       "      <td>-80.293162</td>\n",
       "      <td>25.923336</td>\n",
       "    </tr>\n",
       "    <tr>\n",
       "      <th>4</th>\n",
       "      <td>2025-06-27T14:10:51</td>\n",
       "      <td>TRAFFIC ACCIDENT</td>\n",
       "      <td>NW 41ST ST / NW 107TH AVE</td>\n",
       "      <td></td>\n",
       "      <td>1002</td>\n",
       "      <td>None</td>\n",
       "      <td>None</td>\n",
       "      <td>-80.369500</td>\n",
       "      <td>25.811650</td>\n",
       "    </tr>\n",
       "  </tbody>\n",
       "</table>\n",
       "</div>"
      ],
      "text/plain": [
       "            CreateTime            Signal                           Address  \\\n",
       "0  2025-06-27T14:21:21  TRAFFIC ACCIDENT  S SR836 OFF RAMP W / NW 87TH AVE   \n",
       "1  2025-06-27T14:21:18  TRAFFIC ACCIDENT                 9301 W FLAGLER ST   \n",
       "2  2025-06-27T14:18:19  TRAFFIC ACCIDENT           SW 71ST AVE / SW 9TH ST   \n",
       "3  2025-06-27T14:17:26       HIT AND RUN        NW 165TH TER / NW 57TH AVE   \n",
       "4  2025-06-27T14:10:51  TRAFFIC ACCIDENT         NW 41ST ST / NW 107TH AVE   \n",
       "\n",
       "  Location  Grid  MapX  MapY  Longitude   Latitude  \n",
       "0       NB  4239  None  None -80.336778  25.782038  \n",
       "1     AT&T  1350  None  None -80.347941  25.769274  \n",
       "2           1399  None  None -80.310193  25.761730  \n",
       "3  OCCD NB  0318  None  None -80.293162  25.923336  \n",
       "4           1002  None  None -80.369500  25.811650  "
      ]
     },
     "execution_count": 79,
     "metadata": {},
     "output_type": "execute_result"
    }
   ],
   "source": [
    "# Convert list of dictionaries into a dataframe\n",
    "df = pd.DataFrame(incidents)\n",
    "df.head()"
   ]
  },
  {
   "cell_type": "markdown",
   "id": "a032c4ef",
   "metadata": {},
   "source": [
    "While observing the traffic website, I have noticed duplicate rows on several occasions. It's not clear if there is a reason for the duplicate rows but I will remove them. May need to revisit this."
   ]
  },
  {
   "cell_type": "code",
   "execution_count": 80,
   "id": "deffa3c7",
   "metadata": {},
   "outputs": [
    {
     "name": "stdout",
     "output_type": "stream",
     "text": [
      "<class 'pandas.core.frame.DataFrame'>\n",
      "Index: 26 entries, 0 to 27\n",
      "Data columns (total 9 columns):\n",
      " #   Column      Non-Null Count  Dtype  \n",
      "---  ------      --------------  -----  \n",
      " 0   CreateTime  26 non-null     object \n",
      " 1   Signal      26 non-null     object \n",
      " 2   Address     26 non-null     object \n",
      " 3   Location    26 non-null     object \n",
      " 4   Grid        26 non-null     object \n",
      " 5   MapX        0 non-null      object \n",
      " 6   MapY        0 non-null      object \n",
      " 7   Longitude   26 non-null     float64\n",
      " 8   Latitude    26 non-null     float64\n",
      "dtypes: float64(2), object(7)\n",
      "memory usage: 2.0+ KB\n",
      "None\n"
     ]
    },
    {
     "data": {
      "application/vnd.microsoft.datawrangler.viewer.v0+json": {
       "columns": [
        {
         "name": "index",
         "rawType": "int64",
         "type": "integer"
        },
        {
         "name": "CreateTime",
         "rawType": "object",
         "type": "string"
        },
        {
         "name": "Signal",
         "rawType": "object",
         "type": "string"
        },
        {
         "name": "Address",
         "rawType": "object",
         "type": "string"
        },
        {
         "name": "Location",
         "rawType": "object",
         "type": "string"
        },
        {
         "name": "Grid",
         "rawType": "object",
         "type": "string"
        },
        {
         "name": "MapX",
         "rawType": "object",
         "type": "unknown"
        },
        {
         "name": "MapY",
         "rawType": "object",
         "type": "unknown"
        },
        {
         "name": "Longitude",
         "rawType": "float64",
         "type": "float"
        },
        {
         "name": "Latitude",
         "rawType": "float64",
         "type": "float"
        }
       ],
       "ref": "418ace8b-0aa1-459a-8634-35562e5ada24",
       "rows": [
        [
         "0",
         "2025-06-27T14:21:21",
         "TRAFFIC ACCIDENT",
         "S SR836 OFF RAMP W / NW 87TH AVE",
         "NB",
         "4239",
         null,
         null,
         "-80.3367784",
         "25.78203843"
        ],
        [
         "1",
         "2025-06-27T14:21:18",
         "TRAFFIC ACCIDENT",
         "9301 W FLAGLER ST",
         "AT&T",
         "1350",
         null,
         null,
         "-80.34794051",
         "25.76927387"
        ],
        [
         "2",
         "2025-06-27T14:18:19",
         "TRAFFIC ACCIDENT",
         "SW 71ST AVE / SW 9TH ST",
         "",
         "1399",
         null,
         null,
         "-80.31019306",
         "25.76172957"
        ],
        [
         "3",
         "2025-06-27T14:17:26",
         "HIT AND RUN",
         "NW 165TH TER / NW 57TH AVE",
         "OCCD NB",
         "0318",
         null,
         null,
         "-80.29316196",
         "25.92333591"
        ],
        [
         "4",
         "2025-06-27T14:10:51",
         "TRAFFIC ACCIDENT",
         "NW 41ST ST / NW 107TH AVE",
         "",
         "1002",
         null,
         null,
         "-80.36950021",
         "25.81165048"
        ]
       ],
       "shape": {
        "columns": 9,
        "rows": 5
       }
      },
      "text/html": [
       "<div>\n",
       "<style scoped>\n",
       "    .dataframe tbody tr th:only-of-type {\n",
       "        vertical-align: middle;\n",
       "    }\n",
       "\n",
       "    .dataframe tbody tr th {\n",
       "        vertical-align: top;\n",
       "    }\n",
       "\n",
       "    .dataframe thead th {\n",
       "        text-align: right;\n",
       "    }\n",
       "</style>\n",
       "<table border=\"1\" class=\"dataframe\">\n",
       "  <thead>\n",
       "    <tr style=\"text-align: right;\">\n",
       "      <th></th>\n",
       "      <th>CreateTime</th>\n",
       "      <th>Signal</th>\n",
       "      <th>Address</th>\n",
       "      <th>Location</th>\n",
       "      <th>Grid</th>\n",
       "      <th>MapX</th>\n",
       "      <th>MapY</th>\n",
       "      <th>Longitude</th>\n",
       "      <th>Latitude</th>\n",
       "    </tr>\n",
       "  </thead>\n",
       "  <tbody>\n",
       "    <tr>\n",
       "      <th>0</th>\n",
       "      <td>2025-06-27T14:21:21</td>\n",
       "      <td>TRAFFIC ACCIDENT</td>\n",
       "      <td>S SR836 OFF RAMP W / NW 87TH AVE</td>\n",
       "      <td>NB</td>\n",
       "      <td>4239</td>\n",
       "      <td>None</td>\n",
       "      <td>None</td>\n",
       "      <td>-80.336778</td>\n",
       "      <td>25.782038</td>\n",
       "    </tr>\n",
       "    <tr>\n",
       "      <th>1</th>\n",
       "      <td>2025-06-27T14:21:18</td>\n",
       "      <td>TRAFFIC ACCIDENT</td>\n",
       "      <td>9301 W FLAGLER ST</td>\n",
       "      <td>AT&amp;T</td>\n",
       "      <td>1350</td>\n",
       "      <td>None</td>\n",
       "      <td>None</td>\n",
       "      <td>-80.347941</td>\n",
       "      <td>25.769274</td>\n",
       "    </tr>\n",
       "    <tr>\n",
       "      <th>2</th>\n",
       "      <td>2025-06-27T14:18:19</td>\n",
       "      <td>TRAFFIC ACCIDENT</td>\n",
       "      <td>SW 71ST AVE / SW 9TH ST</td>\n",
       "      <td></td>\n",
       "      <td>1399</td>\n",
       "      <td>None</td>\n",
       "      <td>None</td>\n",
       "      <td>-80.310193</td>\n",
       "      <td>25.761730</td>\n",
       "    </tr>\n",
       "    <tr>\n",
       "      <th>3</th>\n",
       "      <td>2025-06-27T14:17:26</td>\n",
       "      <td>HIT AND RUN</td>\n",
       "      <td>NW 165TH TER / NW 57TH AVE</td>\n",
       "      <td>OCCD NB</td>\n",
       "      <td>0318</td>\n",
       "      <td>None</td>\n",
       "      <td>None</td>\n",
       "      <td>-80.293162</td>\n",
       "      <td>25.923336</td>\n",
       "    </tr>\n",
       "    <tr>\n",
       "      <th>4</th>\n",
       "      <td>2025-06-27T14:10:51</td>\n",
       "      <td>TRAFFIC ACCIDENT</td>\n",
       "      <td>NW 41ST ST / NW 107TH AVE</td>\n",
       "      <td></td>\n",
       "      <td>1002</td>\n",
       "      <td>None</td>\n",
       "      <td>None</td>\n",
       "      <td>-80.369500</td>\n",
       "      <td>25.811650</td>\n",
       "    </tr>\n",
       "  </tbody>\n",
       "</table>\n",
       "</div>"
      ],
      "text/plain": [
       "            CreateTime            Signal                           Address  \\\n",
       "0  2025-06-27T14:21:21  TRAFFIC ACCIDENT  S SR836 OFF RAMP W / NW 87TH AVE   \n",
       "1  2025-06-27T14:21:18  TRAFFIC ACCIDENT                 9301 W FLAGLER ST   \n",
       "2  2025-06-27T14:18:19  TRAFFIC ACCIDENT           SW 71ST AVE / SW 9TH ST   \n",
       "3  2025-06-27T14:17:26       HIT AND RUN        NW 165TH TER / NW 57TH AVE   \n",
       "4  2025-06-27T14:10:51  TRAFFIC ACCIDENT         NW 41ST ST / NW 107TH AVE   \n",
       "\n",
       "  Location  Grid  MapX  MapY  Longitude   Latitude  \n",
       "0       NB  4239  None  None -80.336778  25.782038  \n",
       "1     AT&T  1350  None  None -80.347941  25.769274  \n",
       "2           1399  None  None -80.310193  25.761730  \n",
       "3  OCCD NB  0318  None  None -80.293162  25.923336  \n",
       "4           1002  None  None -80.369500  25.811650  "
      ]
     },
     "execution_count": 80,
     "metadata": {},
     "output_type": "execute_result"
    }
   ],
   "source": [
    "# Remove duplicates\n",
    "df = df.drop_duplicates()\n",
    "print(df.info())\n",
    "df.head()"
   ]
  },
  {
   "cell_type": "code",
   "execution_count": 81,
   "id": "5960ea2a",
   "metadata": {},
   "outputs": [],
   "source": [
    "# Convert CreateTime to datetime datatype\n",
    "df['CreateTime'] = pd.to_datetime(df['CreateTime'])\n",
    "\n",
    "# Convert Signal to categorical datatype\n",
    "df['Signal'] = df['Signal'].astype('category')"
   ]
  },
  {
   "cell_type": "code",
   "execution_count": 82,
   "id": "b99d8dd2",
   "metadata": {},
   "outputs": [
    {
     "name": "stdout",
     "output_type": "stream",
     "text": [
      "<class 'pandas.core.frame.DataFrame'>\n",
      "Index: 26 entries, 0 to 27\n",
      "Data columns (total 9 columns):\n",
      " #   Column      Non-Null Count  Dtype         \n",
      "---  ------      --------------  -----         \n",
      " 0   CreateTime  26 non-null     datetime64[ns]\n",
      " 1   Signal      26 non-null     category      \n",
      " 2   Address     26 non-null     object        \n",
      " 3   Location    26 non-null     object        \n",
      " 4   Grid        26 non-null     object        \n",
      " 5   MapX        0 non-null      object        \n",
      " 6   MapY        0 non-null      object        \n",
      " 7   Longitude   26 non-null     float64       \n",
      " 8   Latitude    26 non-null     float64       \n",
      "dtypes: category(1), datetime64[ns](1), float64(2), object(5)\n",
      "memory usage: 2.1+ KB\n"
     ]
    }
   ],
   "source": [
    "df.info()"
   ]
  },
  {
   "cell_type": "code",
   "execution_count": 83,
   "id": "0423a798",
   "metadata": {},
   "outputs": [
    {
     "name": "stdout",
     "output_type": "stream",
     "text": [
      "🔄 Connecting to BigQuery...\n",
      "✅ Connection successful! Found the following datasets:\n",
      "  - mdpd_traffic_data\n"
     ]
    }
   ],
   "source": [
    "# Connect to BigQuery\n",
    "# Enter Project ID\n",
    "project_id = input(\"Enter your GCP project ID: \") # miami-traffic\n",
    "\n",
    "# Enter the path to JSON key file\n",
    "key_path = getpass.getpass(\"Enter full path to your service account JSON key file: \")\n",
    "\n",
    "# Authenticate\n",
    "credentials = service_account.Credentials.from_service_account_file(key_path)\n",
    "client = bigquery.Client(credentials=credentials, project=project_id)\n",
    "\n",
    "# List datasets to test connection\n",
    "print(\"🔄 Connecting to BigQuery...\")\n",
    "datasets = list(client.list_datasets())\n",
    "if datasets:\n",
    "    print(\"✅ Connection successful! Found the following datasets:\")\n",
    "    for d in datasets:\n",
    "        print(f\"  - {d.dataset_id}\")\n",
    "else:\n",
    "    print(\"✅ Connected, but no datasets found in this project.\")"
   ]
  },
  {
   "cell_type": "code",
   "execution_count": 84,
   "id": "9179667b",
   "metadata": {},
   "outputs": [
    {
     "name": "stdout",
     "output_type": "stream",
     "text": [
      "✅ Data uploaded to BigQuery!\n"
     ]
    }
   ],
   "source": [
    "# Location to upload data (project->dataset->table name)\n",
    "table_id = \"miami-traffic.mdpd_traffic_data.mdpd_data\"\n",
    "\n",
    "# Append new data to table\n",
    "job = client.load_table_from_dataframe(df, table_id)\n",
    "job.result()  # indicates job is complete\n",
    "print(\"✅ Data uploaded to BigQuery!\")"
   ]
  }
 ],
 "metadata": {
  "kernelspec": {
   "display_name": "portfolio_python_env",
   "language": "python",
   "name": "python3"
  },
  "language_info": {
   "codemirror_mode": {
    "name": "ipython",
    "version": 3
   },
   "file_extension": ".py",
   "mimetype": "text/x-python",
   "name": "python",
   "nbconvert_exporter": "python",
   "pygments_lexer": "ipython3",
   "version": "3.13.5"
  }
 },
 "nbformat": 4,
 "nbformat_minor": 5
}
