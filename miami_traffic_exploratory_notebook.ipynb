{
 "cells": [
  {
   "cell_type": "markdown",
   "id": "cbbed74e",
   "metadata": {},
   "source": [
    "# Miami Traffic Incidents Exploratory Notebook"
   ]
  },
  {
   "cell_type": "code",
   "execution_count": 2,
   "id": "04341235",
   "metadata": {},
   "outputs": [],
   "source": [
    "# Load dependencies\n",
    "import pandas as pd\n",
    "import requests\n",
    "import json\n",
    "from google.cloud import bigquery\n",
    "from google.oauth2 import service_account\n",
    "import getpass\n",
    "import pytz"
   ]
  },
  {
   "cell_type": "code",
   "execution_count": 3,
   "id": "a757c089",
   "metadata": {},
   "outputs": [],
   "source": [
    "# Make the request to grab the data\n",
    "url = \"https://traffic.mdpd.com/api/traffic\"\n",
    "resp = requests.get(url)"
   ]
  },
  {
   "cell_type": "code",
   "execution_count": 4,
   "id": "8d191f66",
   "metadata": {},
   "outputs": [
    {
     "name": "stdout",
     "output_type": "stream",
     "text": [
      "<class 'str'>\n"
     ]
    },
    {
     "data": {
      "text/plain": [
       "'[{\"CreateTime\":\"2025-07-18T21:20:03\",\"Signal\":\"TRAFFIC ACCIDENT\",\"Address\":\"NW 7TH ST / NW 72ND AVE\",\"Location\":\"NB\",\"Grid\":\"1242\",\"MapX\":null,\"MapY\":null,\"Longitude\":-80.31245791,\"Latitude\":25.77716579},{\"CreateTime\":\"2025-07-18T21:10:20\",\"Signal\":\"HIT AND RUN JUST OCCURRED\",\"Address\":\"SW 264TH ST / US 1\",\"Location\":\"ALL INFO VIA SPANISH INTERPRETER\",\"Grid\":\"5487\",\"MapX\":null,\"MapY\":null,\"Longitude\":-80.4246234,\"Latitude\":25.52167043},{\"CreateTime\":\"2025-07-18T21:07:30\",\"Signal\":\"TRAFFIC ACCIDENT\",\"Address\":\"NW 22ND AVE / NW 54TH ST\",\"Location\":\"\",\"Grid\":\"8968\",\"MapX\":null,\"MapY\":null,\"Longitude\":-80.23269176,\"Latitude\":25.82417772},{\"CreateTime\":\"2025-07-18T21:03:30\",\"Signal\":\"TRAFFIC ACCIDENT\",\"Address\":\"NW 91ST ST / NW 8TH AVE\",\"Location\":\"\",\"Grid\":\"0741\",\"MapX\":null,\"MapY\":null,\"Longitude\":-80.21159559,\"Latitude\":25.85803868},{\"CreateTime\":\"2025-07-18T21:03:30\",\"Signal\":\"TRAFFIC ACCIDENT\",\"Address\":\"NW 91ST ST / NW 8TH AVE\",\"Location\":\"\",\"Grid\":\"0741\",\"MapX\":null,\"MapY\":null,\"Longitude\":-80.21159559,\"Latitude\":25.85803868},{\"CreateTime\":\"2025-07-18T20:55:26\",\"Signal\":\"TRAFFIC ACCIDENT WITH INJURIES\",\"Address\":\"1606 SW 3RD CT\",\"Location\":\"LAT: <25.466233>  LONG: <-80.497780>\",\"Grid\":\"2633\",\"MapX\":null,\"MapY\":null,\"Longitude\":-80.49777964,\"Latitude\":25.46623251},{\"CreateTime\":\"2025-07-18T20:53:37\",\"Signal\":\"TRAFFIC ACCIDENT\",\"Address\":\"16709 NW 67TH AVE\",\"Location\":\"IFO EL PALACIO DE LOS JUGOS\",\"Grid\":\"3283\",\"MapX\":null,\"MapY\":null,\"Longitude\":-80.30930277,\"Latitude\":25.92529976},{\"CreateTime\":\"2025-07-18T20:44:02\",\"Signal\":\"TRAFFIC ACCIDENT\",\"Address\":\"NW 5TH AVE / NW 131ST ST\",\"Location\":\"\",\"Grid\":\"3482\",\"MapX\":null,\"MapY\":null,\"Longitude\":-80.20706188,\"Latitude\":25.89480543},{\"CreateTime\":\"2025-07-18T20:39:06\",\"Signal\":\"TRAFFIC ACCIDENT WITH INJURIES\",\"Address\":\"9501 FONTAINEBLEAU BLVD\",\"Location\":\"FONTAINEBLEAU P/LOT\",\"Grid\":\"1238\",\"MapX\":null,\"MapY\":null,\"Longitude\":-80.34948764,\"Latitude\":25.77602993},{\"CreateTime\":\"2025-07-18T19:58:35\",\"Signal\":\"TRAFFIC ACCIDENT WITH INJURIES\",\"Address\":\"SW 104TH ST / SW 156TH AVE\",\"Location\":\"\",\"Grid\":\"1851\",\"MapX\":null,\"MapY\":null,\"Longitude\":-80.448142,\"Latitude\":25.66977131},{\"CreateTime\":\"2025-07-18T19:45:46\",\"Signal\":\"TRAFFIC ACCIDENT WITH INJURIES\",\"Address\":\"NW 22ND AVE / NW 124TH ST\",\"Location\":\"\",\"Grid\":\"0538\",\"MapX\":null,\"MapY\":null,\"Longitude\":-80.2349863,\"Latitude\":25.88730244},{\"CreateTime\":\"2025-07-18T18:50:09\",\"Signal\":\"TRAFFIC ACCIDENT\",\"Address\":\"10300 NW 121ST WAY\",\"Location\":\"\",\"Grid\":\"0573\",\"MapX\":null,\"MapY\":null,\"Longitude\":-80.36453104,\"Latitude\":25.88094835},{\"CreateTime\":\"2025-07-18T18:42:04\",\"Signal\":\"TRAFFIC ACCIDENT\",\"Address\":\"1681 NE 123RD ST\",\"Location\":\"LAT: <25.889486>  LONG: <-80.164855>\",\"Grid\":\"0487\",\"MapX\":null,\"MapY\":null,\"Longitude\":-80.16485544,\"Latitude\":25.88948589},{\"CreateTime\":\"2025-07-18T18:40:53\",\"Signal\":\"TRAFFIC ACCIDENT\",\"Address\":\"APPROX LOC:11390 NW 87TH CT\",\"Location\":\"MARATHON GAS STA : LAT: <25.876727>  LONG: <-80.340051>\",\"Grid\":\"0622\",\"MapX\":null,\"MapY\":null,\"Longitude\":-80.340051,\"Latitude\":25.876727}]'"
      ]
     },
     "execution_count": 4,
     "metadata": {},
     "output_type": "execute_result"
    }
   ],
   "source": [
    "# Display raw results\n",
    "print(type(resp.text))\n",
    "resp.text"
   ]
  },
  {
   "cell_type": "code",
   "execution_count": 5,
   "id": "bd6222f9",
   "metadata": {},
   "outputs": [
    {
     "name": "stdout",
     "output_type": "stream",
     "text": [
      "<class 'list'>\n",
      "{'CreateTime': '2025-07-18T21:20:03', 'Signal': 'TRAFFIC ACCIDENT', 'Address': 'NW 7TH ST / NW 72ND AVE', 'Location': 'NB', 'Grid': '1242', 'MapX': None, 'MapY': None, 'Longitude': -80.31245791, 'Latitude': 25.77716579}\n"
     ]
    }
   ],
   "source": [
    "# Parse the string inside the JSON response (converts from string to a list of dictionaries)\n",
    "incidents = json.loads(resp.text)\n",
    "\n",
    "# Explore the data\n",
    "print(type(incidents))\n",
    "print(incidents[0])"
   ]
  },
  {
   "cell_type": "code",
   "execution_count": 6,
   "id": "02d88653",
   "metadata": {},
   "outputs": [
    {
     "data": {
      "text/plain": [
       "14"
      ]
     },
     "execution_count": 6,
     "metadata": {},
     "output_type": "execute_result"
    }
   ],
   "source": [
    "# Check how many dictionaries in the list\n",
    "len(incidents)"
   ]
  },
  {
   "cell_type": "code",
   "execution_count": 7,
   "id": "ac5090a4",
   "metadata": {},
   "outputs": [
    {
     "data": {
      "text/plain": [
       "[{'CreateTime': '2025-07-18T21:20:03',\n",
       "  'Signal': 'TRAFFIC ACCIDENT',\n",
       "  'Address': 'NW 7TH ST / NW 72ND AVE',\n",
       "  'Location': 'NB',\n",
       "  'Grid': '1242',\n",
       "  'MapX': None,\n",
       "  'MapY': None,\n",
       "  'Longitude': -80.31245791,\n",
       "  'Latitude': 25.77716579},\n",
       " {'CreateTime': '2025-07-18T21:10:20',\n",
       "  'Signal': 'HIT AND RUN JUST OCCURRED',\n",
       "  'Address': 'SW 264TH ST / US 1',\n",
       "  'Location': 'ALL INFO VIA SPANISH INTERPRETER',\n",
       "  'Grid': '5487',\n",
       "  'MapX': None,\n",
       "  'MapY': None,\n",
       "  'Longitude': -80.4246234,\n",
       "  'Latitude': 25.52167043}]"
      ]
     },
     "execution_count": 7,
     "metadata": {},
     "output_type": "execute_result"
    }
   ],
   "source": [
    "# Inspect a few records\n",
    "incidents[0:2]"
   ]
  },
  {
   "cell_type": "code",
   "execution_count": 8,
   "id": "7e0748f3",
   "metadata": {},
   "outputs": [
    {
     "data": {
      "application/vnd.microsoft.datawrangler.viewer.v0+json": {
       "columns": [
        {
         "name": "index",
         "rawType": "int64",
         "type": "integer"
        },
        {
         "name": "CreateTime",
         "rawType": "object",
         "type": "string"
        },
        {
         "name": "Signal",
         "rawType": "object",
         "type": "string"
        },
        {
         "name": "Address",
         "rawType": "object",
         "type": "string"
        },
        {
         "name": "Location",
         "rawType": "object",
         "type": "string"
        },
        {
         "name": "Grid",
         "rawType": "object",
         "type": "string"
        },
        {
         "name": "MapX",
         "rawType": "object",
         "type": "unknown"
        },
        {
         "name": "MapY",
         "rawType": "object",
         "type": "unknown"
        },
        {
         "name": "Longitude",
         "rawType": "float64",
         "type": "float"
        },
        {
         "name": "Latitude",
         "rawType": "float64",
         "type": "float"
        }
       ],
       "ref": "b6ab719e-1808-4415-b4ed-f9c281bb2bd0",
       "rows": [
        [
         "0",
         "2025-07-18T21:20:03",
         "TRAFFIC ACCIDENT",
         "NW 7TH ST / NW 72ND AVE",
         "NB",
         "1242",
         null,
         null,
         "-80.31245791",
         "25.77716579"
        ],
        [
         "1",
         "2025-07-18T21:10:20",
         "HIT AND RUN JUST OCCURRED",
         "SW 264TH ST / US 1",
         "ALL INFO VIA SPANISH INTERPRETER",
         "5487",
         null,
         null,
         "-80.4246234",
         "25.52167043"
        ],
        [
         "2",
         "2025-07-18T21:07:30",
         "TRAFFIC ACCIDENT",
         "NW 22ND AVE / NW 54TH ST",
         "",
         "8968",
         null,
         null,
         "-80.23269176",
         "25.82417772"
        ],
        [
         "3",
         "2025-07-18T21:03:30",
         "TRAFFIC ACCIDENT",
         "NW 91ST ST / NW 8TH AVE",
         "",
         "0741",
         null,
         null,
         "-80.21159559",
         "25.85803868"
        ],
        [
         "4",
         "2025-07-18T21:03:30",
         "TRAFFIC ACCIDENT",
         "NW 91ST ST / NW 8TH AVE",
         "",
         "0741",
         null,
         null,
         "-80.21159559",
         "25.85803868"
        ]
       ],
       "shape": {
        "columns": 9,
        "rows": 5
       }
      },
      "text/html": [
       "<div>\n",
       "<style scoped>\n",
       "    .dataframe tbody tr th:only-of-type {\n",
       "        vertical-align: middle;\n",
       "    }\n",
       "\n",
       "    .dataframe tbody tr th {\n",
       "        vertical-align: top;\n",
       "    }\n",
       "\n",
       "    .dataframe thead th {\n",
       "        text-align: right;\n",
       "    }\n",
       "</style>\n",
       "<table border=\"1\" class=\"dataframe\">\n",
       "  <thead>\n",
       "    <tr style=\"text-align: right;\">\n",
       "      <th></th>\n",
       "      <th>CreateTime</th>\n",
       "      <th>Signal</th>\n",
       "      <th>Address</th>\n",
       "      <th>Location</th>\n",
       "      <th>Grid</th>\n",
       "      <th>MapX</th>\n",
       "      <th>MapY</th>\n",
       "      <th>Longitude</th>\n",
       "      <th>Latitude</th>\n",
       "    </tr>\n",
       "  </thead>\n",
       "  <tbody>\n",
       "    <tr>\n",
       "      <th>0</th>\n",
       "      <td>2025-07-18T21:20:03</td>\n",
       "      <td>TRAFFIC ACCIDENT</td>\n",
       "      <td>NW 7TH ST / NW 72ND AVE</td>\n",
       "      <td>NB</td>\n",
       "      <td>1242</td>\n",
       "      <td>None</td>\n",
       "      <td>None</td>\n",
       "      <td>-80.312458</td>\n",
       "      <td>25.777166</td>\n",
       "    </tr>\n",
       "    <tr>\n",
       "      <th>1</th>\n",
       "      <td>2025-07-18T21:10:20</td>\n",
       "      <td>HIT AND RUN JUST OCCURRED</td>\n",
       "      <td>SW 264TH ST / US 1</td>\n",
       "      <td>ALL INFO VIA SPANISH INTERPRETER</td>\n",
       "      <td>5487</td>\n",
       "      <td>None</td>\n",
       "      <td>None</td>\n",
       "      <td>-80.424623</td>\n",
       "      <td>25.521670</td>\n",
       "    </tr>\n",
       "    <tr>\n",
       "      <th>2</th>\n",
       "      <td>2025-07-18T21:07:30</td>\n",
       "      <td>TRAFFIC ACCIDENT</td>\n",
       "      <td>NW 22ND AVE / NW 54TH ST</td>\n",
       "      <td></td>\n",
       "      <td>8968</td>\n",
       "      <td>None</td>\n",
       "      <td>None</td>\n",
       "      <td>-80.232692</td>\n",
       "      <td>25.824178</td>\n",
       "    </tr>\n",
       "    <tr>\n",
       "      <th>3</th>\n",
       "      <td>2025-07-18T21:03:30</td>\n",
       "      <td>TRAFFIC ACCIDENT</td>\n",
       "      <td>NW 91ST ST / NW 8TH AVE</td>\n",
       "      <td></td>\n",
       "      <td>0741</td>\n",
       "      <td>None</td>\n",
       "      <td>None</td>\n",
       "      <td>-80.211596</td>\n",
       "      <td>25.858039</td>\n",
       "    </tr>\n",
       "    <tr>\n",
       "      <th>4</th>\n",
       "      <td>2025-07-18T21:03:30</td>\n",
       "      <td>TRAFFIC ACCIDENT</td>\n",
       "      <td>NW 91ST ST / NW 8TH AVE</td>\n",
       "      <td></td>\n",
       "      <td>0741</td>\n",
       "      <td>None</td>\n",
       "      <td>None</td>\n",
       "      <td>-80.211596</td>\n",
       "      <td>25.858039</td>\n",
       "    </tr>\n",
       "  </tbody>\n",
       "</table>\n",
       "</div>"
      ],
      "text/plain": [
       "            CreateTime                     Signal                   Address  \\\n",
       "0  2025-07-18T21:20:03           TRAFFIC ACCIDENT   NW 7TH ST / NW 72ND AVE   \n",
       "1  2025-07-18T21:10:20  HIT AND RUN JUST OCCURRED        SW 264TH ST / US 1   \n",
       "2  2025-07-18T21:07:30           TRAFFIC ACCIDENT  NW 22ND AVE / NW 54TH ST   \n",
       "3  2025-07-18T21:03:30           TRAFFIC ACCIDENT   NW 91ST ST / NW 8TH AVE   \n",
       "4  2025-07-18T21:03:30           TRAFFIC ACCIDENT   NW 91ST ST / NW 8TH AVE   \n",
       "\n",
       "                           Location  Grid  MapX  MapY  Longitude   Latitude  \n",
       "0                                NB  1242  None  None -80.312458  25.777166  \n",
       "1  ALL INFO VIA SPANISH INTERPRETER  5487  None  None -80.424623  25.521670  \n",
       "2                                    8968  None  None -80.232692  25.824178  \n",
       "3                                    0741  None  None -80.211596  25.858039  \n",
       "4                                    0741  None  None -80.211596  25.858039  "
      ]
     },
     "execution_count": 8,
     "metadata": {},
     "output_type": "execute_result"
    }
   ],
   "source": [
    "# Convert list of dictionaries into a dataframe\n",
    "df = pd.DataFrame(incidents)\n",
    "df.head()"
   ]
  },
  {
   "cell_type": "markdown",
   "id": "a032c4ef",
   "metadata": {},
   "source": [
    "While observing the traffic website, I have noticed duplicate rows on several occasions. It's not clear if there is a reason for the duplicate rows but I will remove them. May need to revisit this."
   ]
  },
  {
   "cell_type": "code",
   "execution_count": 9,
   "id": "deffa3c7",
   "metadata": {},
   "outputs": [
    {
     "name": "stdout",
     "output_type": "stream",
     "text": [
      "<class 'pandas.core.frame.DataFrame'>\n",
      "Index: 13 entries, 0 to 13\n",
      "Data columns (total 9 columns):\n",
      " #   Column      Non-Null Count  Dtype  \n",
      "---  ------      --------------  -----  \n",
      " 0   CreateTime  13 non-null     object \n",
      " 1   Signal      13 non-null     object \n",
      " 2   Address     13 non-null     object \n",
      " 3   Location    13 non-null     object \n",
      " 4   Grid        13 non-null     object \n",
      " 5   MapX        0 non-null      object \n",
      " 6   MapY        0 non-null      object \n",
      " 7   Longitude   13 non-null     float64\n",
      " 8   Latitude    13 non-null     float64\n",
      "dtypes: float64(2), object(7)\n",
      "memory usage: 1.0+ KB\n",
      "None\n"
     ]
    },
    {
     "data": {
      "application/vnd.microsoft.datawrangler.viewer.v0+json": {
       "columns": [
        {
         "name": "index",
         "rawType": "int64",
         "type": "integer"
        },
        {
         "name": "CreateTime",
         "rawType": "object",
         "type": "string"
        },
        {
         "name": "Signal",
         "rawType": "object",
         "type": "string"
        },
        {
         "name": "Address",
         "rawType": "object",
         "type": "string"
        },
        {
         "name": "Location",
         "rawType": "object",
         "type": "string"
        },
        {
         "name": "Grid",
         "rawType": "object",
         "type": "string"
        },
        {
         "name": "MapX",
         "rawType": "object",
         "type": "unknown"
        },
        {
         "name": "MapY",
         "rawType": "object",
         "type": "unknown"
        },
        {
         "name": "Longitude",
         "rawType": "float64",
         "type": "float"
        },
        {
         "name": "Latitude",
         "rawType": "float64",
         "type": "float"
        }
       ],
       "ref": "0a26dc60-4742-4817-9d8a-c888df2e0942",
       "rows": [
        [
         "0",
         "2025-07-18T21:20:03",
         "TRAFFIC ACCIDENT",
         "NW 7TH ST / NW 72ND AVE",
         "NB",
         "1242",
         null,
         null,
         "-80.31245791",
         "25.77716579"
        ],
        [
         "1",
         "2025-07-18T21:10:20",
         "HIT AND RUN JUST OCCURRED",
         "SW 264TH ST / US 1",
         "ALL INFO VIA SPANISH INTERPRETER",
         "5487",
         null,
         null,
         "-80.4246234",
         "25.52167043"
        ],
        [
         "2",
         "2025-07-18T21:07:30",
         "TRAFFIC ACCIDENT",
         "NW 22ND AVE / NW 54TH ST",
         "",
         "8968",
         null,
         null,
         "-80.23269176",
         "25.82417772"
        ],
        [
         "3",
         "2025-07-18T21:03:30",
         "TRAFFIC ACCIDENT",
         "NW 91ST ST / NW 8TH AVE",
         "",
         "0741",
         null,
         null,
         "-80.21159559",
         "25.85803868"
        ],
        [
         "5",
         "2025-07-18T20:55:26",
         "TRAFFIC ACCIDENT WITH INJURIES",
         "1606 SW 3RD CT",
         "LAT: <25.466233>  LONG: <-80.497780>",
         "2633",
         null,
         null,
         "-80.49777964",
         "25.46623251"
        ]
       ],
       "shape": {
        "columns": 9,
        "rows": 5
       }
      },
      "text/html": [
       "<div>\n",
       "<style scoped>\n",
       "    .dataframe tbody tr th:only-of-type {\n",
       "        vertical-align: middle;\n",
       "    }\n",
       "\n",
       "    .dataframe tbody tr th {\n",
       "        vertical-align: top;\n",
       "    }\n",
       "\n",
       "    .dataframe thead th {\n",
       "        text-align: right;\n",
       "    }\n",
       "</style>\n",
       "<table border=\"1\" class=\"dataframe\">\n",
       "  <thead>\n",
       "    <tr style=\"text-align: right;\">\n",
       "      <th></th>\n",
       "      <th>CreateTime</th>\n",
       "      <th>Signal</th>\n",
       "      <th>Address</th>\n",
       "      <th>Location</th>\n",
       "      <th>Grid</th>\n",
       "      <th>MapX</th>\n",
       "      <th>MapY</th>\n",
       "      <th>Longitude</th>\n",
       "      <th>Latitude</th>\n",
       "    </tr>\n",
       "  </thead>\n",
       "  <tbody>\n",
       "    <tr>\n",
       "      <th>0</th>\n",
       "      <td>2025-07-18T21:20:03</td>\n",
       "      <td>TRAFFIC ACCIDENT</td>\n",
       "      <td>NW 7TH ST / NW 72ND AVE</td>\n",
       "      <td>NB</td>\n",
       "      <td>1242</td>\n",
       "      <td>None</td>\n",
       "      <td>None</td>\n",
       "      <td>-80.312458</td>\n",
       "      <td>25.777166</td>\n",
       "    </tr>\n",
       "    <tr>\n",
       "      <th>1</th>\n",
       "      <td>2025-07-18T21:10:20</td>\n",
       "      <td>HIT AND RUN JUST OCCURRED</td>\n",
       "      <td>SW 264TH ST / US 1</td>\n",
       "      <td>ALL INFO VIA SPANISH INTERPRETER</td>\n",
       "      <td>5487</td>\n",
       "      <td>None</td>\n",
       "      <td>None</td>\n",
       "      <td>-80.424623</td>\n",
       "      <td>25.521670</td>\n",
       "    </tr>\n",
       "    <tr>\n",
       "      <th>2</th>\n",
       "      <td>2025-07-18T21:07:30</td>\n",
       "      <td>TRAFFIC ACCIDENT</td>\n",
       "      <td>NW 22ND AVE / NW 54TH ST</td>\n",
       "      <td></td>\n",
       "      <td>8968</td>\n",
       "      <td>None</td>\n",
       "      <td>None</td>\n",
       "      <td>-80.232692</td>\n",
       "      <td>25.824178</td>\n",
       "    </tr>\n",
       "    <tr>\n",
       "      <th>3</th>\n",
       "      <td>2025-07-18T21:03:30</td>\n",
       "      <td>TRAFFIC ACCIDENT</td>\n",
       "      <td>NW 91ST ST / NW 8TH AVE</td>\n",
       "      <td></td>\n",
       "      <td>0741</td>\n",
       "      <td>None</td>\n",
       "      <td>None</td>\n",
       "      <td>-80.211596</td>\n",
       "      <td>25.858039</td>\n",
       "    </tr>\n",
       "    <tr>\n",
       "      <th>5</th>\n",
       "      <td>2025-07-18T20:55:26</td>\n",
       "      <td>TRAFFIC ACCIDENT WITH INJURIES</td>\n",
       "      <td>1606 SW 3RD CT</td>\n",
       "      <td>LAT: &lt;25.466233&gt;  LONG: &lt;-80.497780&gt;</td>\n",
       "      <td>2633</td>\n",
       "      <td>None</td>\n",
       "      <td>None</td>\n",
       "      <td>-80.497780</td>\n",
       "      <td>25.466233</td>\n",
       "    </tr>\n",
       "  </tbody>\n",
       "</table>\n",
       "</div>"
      ],
      "text/plain": [
       "            CreateTime                          Signal  \\\n",
       "0  2025-07-18T21:20:03                TRAFFIC ACCIDENT   \n",
       "1  2025-07-18T21:10:20       HIT AND RUN JUST OCCURRED   \n",
       "2  2025-07-18T21:07:30                TRAFFIC ACCIDENT   \n",
       "3  2025-07-18T21:03:30                TRAFFIC ACCIDENT   \n",
       "5  2025-07-18T20:55:26  TRAFFIC ACCIDENT WITH INJURIES   \n",
       "\n",
       "                    Address                              Location  Grid  MapX  \\\n",
       "0   NW 7TH ST / NW 72ND AVE                                    NB  1242  None   \n",
       "1        SW 264TH ST / US 1      ALL INFO VIA SPANISH INTERPRETER  5487  None   \n",
       "2  NW 22ND AVE / NW 54TH ST                                        8968  None   \n",
       "3   NW 91ST ST / NW 8TH AVE                                        0741  None   \n",
       "5            1606 SW 3RD CT  LAT: <25.466233>  LONG: <-80.497780>  2633  None   \n",
       "\n",
       "   MapY  Longitude   Latitude  \n",
       "0  None -80.312458  25.777166  \n",
       "1  None -80.424623  25.521670  \n",
       "2  None -80.232692  25.824178  \n",
       "3  None -80.211596  25.858039  \n",
       "5  None -80.497780  25.466233  "
      ]
     },
     "execution_count": 9,
     "metadata": {},
     "output_type": "execute_result"
    }
   ],
   "source": [
    "# Remove duplicates\n",
    "df = df.drop_duplicates()\n",
    "print(df.info())\n",
    "df.head()"
   ]
  },
  {
   "cell_type": "code",
   "execution_count": 10,
   "id": "5960ea2a",
   "metadata": {},
   "outputs": [],
   "source": [
    "\n",
    "# Convert to Eastern Time, then to UTC\n",
    "df['CreateTime'] = pd.to_datetime(df['CreateTime']).dt.tz_localize('US/Eastern')\n",
    "df['CreateTime'] = df['CreateTime'].dt.tz_convert('UTC')\n",
    "\n",
    "# Convert Signal to categorical datatype\n",
    "df['Signal'] = df['Signal'].astype('category')"
   ]
  },
  {
   "cell_type": "code",
   "execution_count": 11,
   "id": "b99d8dd2",
   "metadata": {},
   "outputs": [
    {
     "name": "stdout",
     "output_type": "stream",
     "text": [
      "<class 'pandas.core.frame.DataFrame'>\n",
      "Index: 13 entries, 0 to 13\n",
      "Data columns (total 9 columns):\n",
      " #   Column      Non-Null Count  Dtype              \n",
      "---  ------      --------------  -----              \n",
      " 0   CreateTime  13 non-null     datetime64[ns, UTC]\n",
      " 1   Signal      13 non-null     category           \n",
      " 2   Address     13 non-null     object             \n",
      " 3   Location    13 non-null     object             \n",
      " 4   Grid        13 non-null     object             \n",
      " 5   MapX        0 non-null      object             \n",
      " 6   MapY        0 non-null      object             \n",
      " 7   Longitude   13 non-null     float64            \n",
      " 8   Latitude    13 non-null     float64            \n",
      "dtypes: category(1), datetime64[ns, UTC](1), float64(2), object(5)\n",
      "memory usage: 1.1+ KB\n"
     ]
    }
   ],
   "source": [
    "df.info()"
   ]
  },
  {
   "cell_type": "code",
   "execution_count": 12,
   "id": "0423a798",
   "metadata": {},
   "outputs": [
    {
     "name": "stdout",
     "output_type": "stream",
     "text": [
      "🔄 Connecting to BigQuery...\n",
      "✅ Connection successful! Found the following datasets:\n",
      "  - mdpd_traffic_data\n"
     ]
    }
   ],
   "source": [
    "# Connect to BigQuery\n",
    "# Enter Project ID\n",
    "project_id = input(\"Enter your GCP project ID: \") # miami-traffic\n",
    "\n",
    "# Enter the path to JSON key file\n",
    "key_path = getpass.getpass(\"Enter full path to your service account JSON key file: \")\n",
    "\n",
    "# Authenticate\n",
    "credentials = service_account.Credentials.from_service_account_file(key_path)\n",
    "client = bigquery.Client(credentials=credentials, project=project_id)\n",
    "\n",
    "# List datasets to test connection\n",
    "print(\"🔄 Connecting to BigQuery...\")\n",
    "datasets = list(client.list_datasets())\n",
    "if datasets:\n",
    "    print(\"✅ Connection successful! Found the following datasets:\")\n",
    "    for d in datasets:\n",
    "        print(f\"  - {d.dataset_id}\")\n",
    "else:\n",
    "    print(\"✅ Connected, but no datasets found in this project.\")"
   ]
  },
  {
   "cell_type": "code",
   "execution_count": 13,
   "id": "9179667b",
   "metadata": {},
   "outputs": [
    {
     "name": "stdout",
     "output_type": "stream",
     "text": [
      "✅ Data uploaded to BigQuery!\n"
     ]
    }
   ],
   "source": [
    "# Location to upload data (project->dataset->table name)\n",
    "table_id = \"miami-traffic.mdpd_traffic_data.mdpd_data\"\n",
    "\n",
    "# Append new data to table\n",
    "job = client.load_table_from_dataframe(df, table_id)\n",
    "job.result()  # indicates job is complete\n",
    "print(\"✅ Data uploaded to BigQuery!\")"
   ]
  }
 ],
 "metadata": {
  "kernelspec": {
   "display_name": "portfolio_project_virtual_env",
   "language": "python",
   "name": "python3"
  },
  "language_info": {
   "codemirror_mode": {
    "name": "ipython",
    "version": 3
   },
   "file_extension": ".py",
   "mimetype": "text/x-python",
   "name": "python",
   "nbconvert_exporter": "python",
   "pygments_lexer": "ipython3",
   "version": "3.13.5"
  }
 },
 "nbformat": 4,
 "nbformat_minor": 5
}
