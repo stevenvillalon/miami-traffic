{
 "cells": [
  {
   "cell_type": "markdown",
   "id": "cbbed74e",
   "metadata": {},
   "source": [
    "# Miami Traffic Incidents Exploratory Notebook"
   ]
  },
  {
   "cell_type": "code",
   "execution_count": null,
   "id": "04341235",
   "metadata": {},
   "outputs": [],
   "source": [
    "# Load dependencies\n",
    "import pandas as pd\n",
    "import requests\n",
    "import json\n",
    "from google.cloud import bigquery\n",
    "from google.oauth2 import service_account\n",
    "import getpass\n",
    "import pytz"
   ]
  },
  {
   "cell_type": "code",
   "execution_count": 2,
   "id": "a757c089",
   "metadata": {},
   "outputs": [],
   "source": [
    "# Make the request to grab the data\n",
    "url = \"https://traffic.mdpd.com/api/traffic\"\n",
    "resp = requests.get(url)"
   ]
  },
  {
   "cell_type": "code",
   "execution_count": 3,
   "id": "8d191f66",
   "metadata": {},
   "outputs": [
    {
     "name": "stdout",
     "output_type": "stream",
     "text": [
      "<class 'str'>\n"
     ]
    },
    {
     "data": {
      "text/plain": [
       "'[{\"CreateTime\":\"2025-07-18T15:58:25\",\"Signal\":\"TRAFFIC ACCIDENT\",\"Address\":\"SW 144TH CT / SW 56TH ST\",\"Location\":\"\",\"Grid\":\"1623\",\"MapX\":null,\"MapY\":null,\"Longitude\":-80.42789976,\"Latitude\":25.71399463},{\"CreateTime\":\"2025-07-18T15:50:45\",\"Signal\":\"TRAFFIC ACCIDENT\",\"Address\":\"14700 SW 26TH ST\",\"Location\":\"WALMART : LAT: <25.742604>  LONG: <-80.432621>\",\"Grid\":\"1472\",\"MapX\":null,\"MapY\":null,\"Longitude\":-80.43262095,\"Latitude\":25.74260378},{\"CreateTime\":\"2025-07-18T15:50:36\",\"Signal\":\"TRAFFIC ACCIDENT\",\"Address\":\"SW 72ND AVE / SW 47TH ST\",\"Location\":\"\",\"Grid\":\"1595\",\"MapX\":null,\"MapY\":null,\"Longitude\":-80.31073663,\"Latitude\":25.72637295},{\"CreateTime\":\"2025-07-18T15:49:20\",\"Signal\":\"TRAFFIC ACCIDENT WITH INJURIES\",\"Address\":\"7401 NW 73RD ST\",\"Location\":\"WENDYS P/LOT\",\"Grid\":\"0849\",\"MapX\":null,\"MapY\":null,\"Longitude\":-80.3186518,\"Latitude\":25.84005843},{\"CreateTime\":\"2025-07-18T15:46:22\",\"Signal\":\"TRAFFIC ACCIDENT\",\"Address\":\"7875 NW 12TH ST\",\"Location\":\"S FL CENTER FOR BEHAVIORAL HEALTH\",\"Grid\":\"1210\",\"MapX\":null,\"MapY\":null,\"Longitude\":-80.32467502,\"Latitude\":25.78296737},{\"CreateTime\":\"2025-07-18T15:40:32\",\"Signal\":\"TRAFFIC ACCIDENT\",\"Address\":\"NW 21ST ST / NW 37TH AVE\",\"Location\":\"WB LANE\",\"Grid\":\"1073\",\"MapX\":null,\"MapY\":null,\"Longitude\":-80.25615455,\"Latitude\":25.79506467},{\"CreateTime\":\"2025-07-18T15:38:04\",\"Signal\":\"TRAFFIC ACCIDENT\",\"Address\":\"19151 S DIXIE HWY\",\"Location\":\"CBT COLLEGE CUTLER BAY CAMPUS\",\"Grid\":\"2208\",\"MapX\":null,\"MapY\":null,\"Longitude\":-80.35771573,\"Latitude\":25.58975914},{\"CreateTime\":\"2025-07-18T15:36:38\",\"Signal\":\"TRAFFIC ACCIDENT\",\"Address\":\"SW 102ND AVE / SW 40TH ST\",\"Location\":\"SB BEFORE BIRD RD\",\"Grid\":\"1524\",\"MapX\":null,\"MapY\":null,\"Longitude\":-80.35974548,\"Latitude\":25.7322327},{\"CreateTime\":\"2025-07-18T15:35:18\",\"Signal\":\"TRAFFIC ACCIDENT\",\"Address\":\"21255 NE 8TH CT\",\"Location\":\"SIERRA RIDGE APTS\",\"Grid\":\"0048\",\"MapX\":null,\"MapY\":null,\"Longitude\":-80.18611678,\"Latitude\":25.97090404},{\"CreateTime\":\"2025-07-18T15:33:40\",\"Signal\":\"TRAFFIC ACCIDENT\",\"Address\":\"NW 43RD PL / NW 14TH ST\",\"Location\":\"\",\"Grid\":\"5248\",\"MapX\":null,\"MapY\":null,\"Longitude\":-80.26748435,\"Latitude\":25.78611419},{\"CreateTime\":\"2025-07-18T15:32:40\",\"Signal\":\"HIT AND RUN\",\"Address\":\"NW 87TH AVE / SR 836\",\"Location\":\"SB\",\"Grid\":\"4239\",\"MapX\":null,\"MapY\":null,\"Longitude\":-80.33678177,\"Latitude\":25.78126412},{\"CreateTime\":\"2025-07-18T15:29:55\",\"Signal\":\"HIT AND RUN\",\"Address\":\"2100 NW 42ND AVE\",\"Location\":\"MIA/AVAICAN CAR 708\",\"Grid\":\"1154\",\"MapX\":null,\"MapY\":null,\"Longitude\":-80.27960727,\"Latitude\":25.79506648},{\"CreateTime\":\"2025-07-18T15:28:34\",\"Signal\":\"TRAFFIC ACCIDENT\",\"Address\":\"NE 6TH AVE / NE 135TH ST\",\"Location\":\"\",\"Grid\":\"3394\",\"MapX\":null,\"MapY\":null,\"Longitude\":-80.18684958,\"Latitude\":25.89945659},{\"CreateTime\":\"2025-07-18T15:26:22\",\"Signal\":\"TRAFFIC ACCIDENT\",\"Address\":\"16400 COLLINS AVE\",\"Location\":\"NB\",\"Grid\":\"0346\",\"MapX\":null,\"MapY\":null,\"Longitude\":-80.1236851,\"Latitude\":25.92846299},{\"CreateTime\":\"2025-07-18T15:24:21\",\"Signal\":\"HIT AND RUN\",\"Address\":\"NW 79TH ST / NW 11TH CT\",\"Location\":\"\",\"Grid\":\"0798\",\"MapX\":null,\"MapY\":null,\"Longitude\":-80.21595861,\"Latitude\":25.84681686},{\"CreateTime\":\"2025-07-18T15:21:59\",\"Signal\":\"TRAFFIC ACCIDENT\",\"Address\":\"NW 21ST ST / NW 37TH AVE\",\"Location\":\"WB LANE\",\"Grid\":\"1073\",\"MapX\":null,\"MapY\":null,\"Longitude\":-80.25615455,\"Latitude\":25.79506467},{\"CreateTime\":\"2025-07-18T15:21:29\",\"Signal\":\"TRAFFIC ACCIDENT\",\"Address\":\"NW 29TH ST / NW 79TH AVE\",\"Location\":\"\",\"Grid\":\"4067\",\"MapX\":null,\"MapY\":null,\"Longitude\":-80.32509225,\"Latitude\":25.80072937},{\"CreateTime\":\"2025-07-18T15:20:46\",\"Signal\":\"TRAFFIC ACCIDENT\",\"Address\":\"6880 SW 44TH ST\",\"Location\":\"LAT: <25.728929>  LONG: <-80.306386>\",\"Grid\":\"1597\",\"MapX\":null,\"MapY\":null,\"Longitude\":-80.30638567,\"Latitude\":25.72892935},{\"CreateTime\":\"2025-07-18T15:09:11\",\"Signal\":\"HIT AND RUN\",\"Address\":\"16201 SW 285TH ST\",\"Location\":\"\",\"Grid\":\"2533\",\"MapX\":null,\"MapY\":null,\"Longitude\":-80.45340097,\"Latitude\":25.50220395},{\"CreateTime\":\"2025-07-18T14:54:50\",\"Signal\":\"TRAFFIC ACCIDENT\",\"Address\":\"SW 137TH AVE / SW 71ST ST\",\"Location\":\"\",\"Grid\":\"1703\",\"MapX\":null,\"MapY\":null,\"Longitude\":-80.41457703,\"Latitude\":25.70152169},{\"CreateTime\":\"2025-07-18T14:48:33\",\"Signal\":\"TRAFFIC ACCIDENT\",\"Address\":\"NW 125TH ST / N MIAMI AVE\",\"Location\":\"\",\"Grid\":\"3482\",\"MapX\":null,\"MapY\":null,\"Longitude\":-80.19866529,\"Latitude\":25.88972881},{\"CreateTime\":\"2025-07-18T14:36:20\",\"Signal\":\"TRAFFIC ACCIDENT\",\"Address\":\"11735 SHERRI LN\",\"Location\":\"TAP 42 P LOT\",\"Grid\":\"3930\",\"MapX\":null,\"MapY\":null,\"Longitude\":-80.38459857,\"Latitude\":25.68869042},{\"CreateTime\":\"2025-07-18T14:36:13\",\"Signal\":\"HIT AND RUN JUST OCCURRED\",\"Address\":\"1800 NE MIAMI GARDENS DR\",\"Location\":\"SKYLAKE MALL PUBLIX PLOT : LAT: <25.945185>  LONG: <-80.1657\",\"Grid\":\"3133\",\"MapX\":null,\"MapY\":null,\"Longitude\":-80.16577626,\"Latitude\":25.9451854},{\"CreateTime\":\"2025-07-18T14:34:22\",\"Signal\":\"HIT AND RUN\",\"Address\":\"200 CRANDON BLVD\",\"Location\":\"\",\"Grid\":\"1560\",\"MapX\":null,\"MapY\":null,\"Longitude\":-80.16306731,\"Latitude\":25.697425},{\"CreateTime\":\"2025-07-18T14:24:20\",\"Signal\":\"TRAFFIC ACCIDENT\",\"Address\":\"SR836 / NW 97TH AVE\",\"Location\":\"SB BEFORE 107TH AV\",\"Grid\":\"4237\",\"MapX\":null,\"MapY\":null,\"Longitude\":-80.35321055,\"Latitude\":25.78122103},{\"CreateTime\":\"2025-07-18T13:29:28\",\"Signal\":\"TRAFFIC ACCIDENT\",\"Address\":\"799 CRANDON BLVD\",\"Location\":\"\",\"Grid\":\"1563\",\"MapX\":null,\"MapY\":null,\"Longitude\":-80.163104,\"Latitude\":25.6868873},{\"CreateTime\":\"2025-07-18T12:44:31\",\"Signal\":\"TRAFFIC ACCIDENT\",\"Address\":\"NW 53RD ST / NW 87TH AVE\",\"Location\":\"\",\"Grid\":\"1006\",\"MapX\":null,\"MapY\":null,\"Longitude\":-80.33764352,\"Latitude\":25.81978498},{\"CreateTime\":\"2025-07-18T12:18:26\",\"Signal\":\"TRAFFIC ACCIDENT\",\"Address\":\"SW 304TH ST / SW 107TH AVE\",\"Location\":\"\",\"Grid\":\"\",\"MapX\":null,\"MapY\":null,\"Longitude\":-80.36351679,\"Latitude\":25.48551757},{\"CreateTime\":\"2025-07-18T10:56:43\",\"Signal\":\"TRAFFIC ACCIDENT\",\"Address\":\"351 SW 107TH AVE\",\"Location\":\"FSTA 29\",\"Grid\":\"1348\",\"MapX\":null,\"MapY\":null,\"Longitude\":-80.36832388,\"Latitude\":25.76516798}]'"
      ]
     },
     "execution_count": 3,
     "metadata": {},
     "output_type": "execute_result"
    }
   ],
   "source": [
    "# Display raw results\n",
    "print(type(resp.text))\n",
    "resp.text"
   ]
  },
  {
   "cell_type": "code",
   "execution_count": 4,
   "id": "bd6222f9",
   "metadata": {},
   "outputs": [
    {
     "name": "stdout",
     "output_type": "stream",
     "text": [
      "<class 'list'>\n",
      "{'CreateTime': '2025-07-18T15:58:25', 'Signal': 'TRAFFIC ACCIDENT', 'Address': 'SW 144TH CT / SW 56TH ST', 'Location': '', 'Grid': '1623', 'MapX': None, 'MapY': None, 'Longitude': -80.42789976, 'Latitude': 25.71399463}\n"
     ]
    }
   ],
   "source": [
    "# Parse the string inside the JSON response (converts from string to a list of dictionaries)\n",
    "incidents = json.loads(resp.text)\n",
    "\n",
    "# Explore the data\n",
    "print(type(incidents))\n",
    "print(incidents[0])"
   ]
  },
  {
   "cell_type": "code",
   "execution_count": 5,
   "id": "02d88653",
   "metadata": {},
   "outputs": [
    {
     "data": {
      "text/plain": [
       "29"
      ]
     },
     "execution_count": 5,
     "metadata": {},
     "output_type": "execute_result"
    }
   ],
   "source": [
    "# Check how many dictionaries in the list\n",
    "len(incidents)"
   ]
  },
  {
   "cell_type": "code",
   "execution_count": 6,
   "id": "ac5090a4",
   "metadata": {},
   "outputs": [
    {
     "data": {
      "text/plain": [
       "[{'CreateTime': '2025-07-18T15:58:25',\n",
       "  'Signal': 'TRAFFIC ACCIDENT',\n",
       "  'Address': 'SW 144TH CT / SW 56TH ST',\n",
       "  'Location': '',\n",
       "  'Grid': '1623',\n",
       "  'MapX': None,\n",
       "  'MapY': None,\n",
       "  'Longitude': -80.42789976,\n",
       "  'Latitude': 25.71399463},\n",
       " {'CreateTime': '2025-07-18T15:50:45',\n",
       "  'Signal': 'TRAFFIC ACCIDENT',\n",
       "  'Address': '14700 SW 26TH ST',\n",
       "  'Location': 'WALMART : LAT: <25.742604>  LONG: <-80.432621>',\n",
       "  'Grid': '1472',\n",
       "  'MapX': None,\n",
       "  'MapY': None,\n",
       "  'Longitude': -80.43262095,\n",
       "  'Latitude': 25.74260378}]"
      ]
     },
     "execution_count": 6,
     "metadata": {},
     "output_type": "execute_result"
    }
   ],
   "source": [
    "# Inspect a few records\n",
    "incidents[0:2]"
   ]
  },
  {
   "cell_type": "code",
   "execution_count": 7,
   "id": "7e0748f3",
   "metadata": {},
   "outputs": [
    {
     "data": {
      "application/vnd.microsoft.datawrangler.viewer.v0+json": {
       "columns": [
        {
         "name": "index",
         "rawType": "int64",
         "type": "integer"
        },
        {
         "name": "CreateTime",
         "rawType": "object",
         "type": "string"
        },
        {
         "name": "Signal",
         "rawType": "object",
         "type": "string"
        },
        {
         "name": "Address",
         "rawType": "object",
         "type": "string"
        },
        {
         "name": "Location",
         "rawType": "object",
         "type": "string"
        },
        {
         "name": "Grid",
         "rawType": "object",
         "type": "string"
        },
        {
         "name": "MapX",
         "rawType": "object",
         "type": "unknown"
        },
        {
         "name": "MapY",
         "rawType": "object",
         "type": "unknown"
        },
        {
         "name": "Longitude",
         "rawType": "float64",
         "type": "float"
        },
        {
         "name": "Latitude",
         "rawType": "float64",
         "type": "float"
        }
       ],
       "ref": "b37e8aef-4725-4d9d-b401-1413f3be6292",
       "rows": [
        [
         "0",
         "2025-07-18T15:58:25",
         "TRAFFIC ACCIDENT",
         "SW 144TH CT / SW 56TH ST",
         "",
         "1623",
         null,
         null,
         "-80.42789976",
         "25.71399463"
        ],
        [
         "1",
         "2025-07-18T15:50:45",
         "TRAFFIC ACCIDENT",
         "14700 SW 26TH ST",
         "WALMART : LAT: <25.742604>  LONG: <-80.432621>",
         "1472",
         null,
         null,
         "-80.43262095",
         "25.74260378"
        ],
        [
         "2",
         "2025-07-18T15:50:36",
         "TRAFFIC ACCIDENT",
         "SW 72ND AVE / SW 47TH ST",
         "",
         "1595",
         null,
         null,
         "-80.31073663",
         "25.72637295"
        ],
        [
         "3",
         "2025-07-18T15:49:20",
         "TRAFFIC ACCIDENT WITH INJURIES",
         "7401 NW 73RD ST",
         "WENDYS P/LOT",
         "0849",
         null,
         null,
         "-80.3186518",
         "25.84005843"
        ],
        [
         "4",
         "2025-07-18T15:46:22",
         "TRAFFIC ACCIDENT",
         "7875 NW 12TH ST",
         "S FL CENTER FOR BEHAVIORAL HEALTH",
         "1210",
         null,
         null,
         "-80.32467502",
         "25.78296737"
        ]
       ],
       "shape": {
        "columns": 9,
        "rows": 5
       }
      },
      "text/html": [
       "<div>\n",
       "<style scoped>\n",
       "    .dataframe tbody tr th:only-of-type {\n",
       "        vertical-align: middle;\n",
       "    }\n",
       "\n",
       "    .dataframe tbody tr th {\n",
       "        vertical-align: top;\n",
       "    }\n",
       "\n",
       "    .dataframe thead th {\n",
       "        text-align: right;\n",
       "    }\n",
       "</style>\n",
       "<table border=\"1\" class=\"dataframe\">\n",
       "  <thead>\n",
       "    <tr style=\"text-align: right;\">\n",
       "      <th></th>\n",
       "      <th>CreateTime</th>\n",
       "      <th>Signal</th>\n",
       "      <th>Address</th>\n",
       "      <th>Location</th>\n",
       "      <th>Grid</th>\n",
       "      <th>MapX</th>\n",
       "      <th>MapY</th>\n",
       "      <th>Longitude</th>\n",
       "      <th>Latitude</th>\n",
       "    </tr>\n",
       "  </thead>\n",
       "  <tbody>\n",
       "    <tr>\n",
       "      <th>0</th>\n",
       "      <td>2025-07-18T15:58:25</td>\n",
       "      <td>TRAFFIC ACCIDENT</td>\n",
       "      <td>SW 144TH CT / SW 56TH ST</td>\n",
       "      <td></td>\n",
       "      <td>1623</td>\n",
       "      <td>None</td>\n",
       "      <td>None</td>\n",
       "      <td>-80.427900</td>\n",
       "      <td>25.713995</td>\n",
       "    </tr>\n",
       "    <tr>\n",
       "      <th>1</th>\n",
       "      <td>2025-07-18T15:50:45</td>\n",
       "      <td>TRAFFIC ACCIDENT</td>\n",
       "      <td>14700 SW 26TH ST</td>\n",
       "      <td>WALMART : LAT: &lt;25.742604&gt;  LONG: &lt;-80.432621&gt;</td>\n",
       "      <td>1472</td>\n",
       "      <td>None</td>\n",
       "      <td>None</td>\n",
       "      <td>-80.432621</td>\n",
       "      <td>25.742604</td>\n",
       "    </tr>\n",
       "    <tr>\n",
       "      <th>2</th>\n",
       "      <td>2025-07-18T15:50:36</td>\n",
       "      <td>TRAFFIC ACCIDENT</td>\n",
       "      <td>SW 72ND AVE / SW 47TH ST</td>\n",
       "      <td></td>\n",
       "      <td>1595</td>\n",
       "      <td>None</td>\n",
       "      <td>None</td>\n",
       "      <td>-80.310737</td>\n",
       "      <td>25.726373</td>\n",
       "    </tr>\n",
       "    <tr>\n",
       "      <th>3</th>\n",
       "      <td>2025-07-18T15:49:20</td>\n",
       "      <td>TRAFFIC ACCIDENT WITH INJURIES</td>\n",
       "      <td>7401 NW 73RD ST</td>\n",
       "      <td>WENDYS P/LOT</td>\n",
       "      <td>0849</td>\n",
       "      <td>None</td>\n",
       "      <td>None</td>\n",
       "      <td>-80.318652</td>\n",
       "      <td>25.840058</td>\n",
       "    </tr>\n",
       "    <tr>\n",
       "      <th>4</th>\n",
       "      <td>2025-07-18T15:46:22</td>\n",
       "      <td>TRAFFIC ACCIDENT</td>\n",
       "      <td>7875 NW 12TH ST</td>\n",
       "      <td>S FL CENTER FOR BEHAVIORAL HEALTH</td>\n",
       "      <td>1210</td>\n",
       "      <td>None</td>\n",
       "      <td>None</td>\n",
       "      <td>-80.324675</td>\n",
       "      <td>25.782967</td>\n",
       "    </tr>\n",
       "  </tbody>\n",
       "</table>\n",
       "</div>"
      ],
      "text/plain": [
       "            CreateTime                          Signal  \\\n",
       "0  2025-07-18T15:58:25                TRAFFIC ACCIDENT   \n",
       "1  2025-07-18T15:50:45                TRAFFIC ACCIDENT   \n",
       "2  2025-07-18T15:50:36                TRAFFIC ACCIDENT   \n",
       "3  2025-07-18T15:49:20  TRAFFIC ACCIDENT WITH INJURIES   \n",
       "4  2025-07-18T15:46:22                TRAFFIC ACCIDENT   \n",
       "\n",
       "                    Address                                        Location  \\\n",
       "0  SW 144TH CT / SW 56TH ST                                                   \n",
       "1          14700 SW 26TH ST  WALMART : LAT: <25.742604>  LONG: <-80.432621>   \n",
       "2  SW 72ND AVE / SW 47TH ST                                                   \n",
       "3           7401 NW 73RD ST                                    WENDYS P/LOT   \n",
       "4           7875 NW 12TH ST               S FL CENTER FOR BEHAVIORAL HEALTH   \n",
       "\n",
       "   Grid  MapX  MapY  Longitude   Latitude  \n",
       "0  1623  None  None -80.427900  25.713995  \n",
       "1  1472  None  None -80.432621  25.742604  \n",
       "2  1595  None  None -80.310737  25.726373  \n",
       "3  0849  None  None -80.318652  25.840058  \n",
       "4  1210  None  None -80.324675  25.782967  "
      ]
     },
     "execution_count": 7,
     "metadata": {},
     "output_type": "execute_result"
    }
   ],
   "source": [
    "# Convert list of dictionaries into a dataframe\n",
    "df = pd.DataFrame(incidents)\n",
    "df.head()"
   ]
  },
  {
   "cell_type": "markdown",
   "id": "a032c4ef",
   "metadata": {},
   "source": [
    "While observing the traffic website, I have noticed duplicate rows on several occasions. It's not clear if there is a reason for the duplicate rows but I will remove them. May need to revisit this."
   ]
  },
  {
   "cell_type": "code",
   "execution_count": 8,
   "id": "deffa3c7",
   "metadata": {},
   "outputs": [
    {
     "name": "stdout",
     "output_type": "stream",
     "text": [
      "<class 'pandas.core.frame.DataFrame'>\n",
      "RangeIndex: 29 entries, 0 to 28\n",
      "Data columns (total 9 columns):\n",
      " #   Column      Non-Null Count  Dtype  \n",
      "---  ------      --------------  -----  \n",
      " 0   CreateTime  29 non-null     object \n",
      " 1   Signal      29 non-null     object \n",
      " 2   Address     29 non-null     object \n",
      " 3   Location    29 non-null     object \n",
      " 4   Grid        29 non-null     object \n",
      " 5   MapX        0 non-null      object \n",
      " 6   MapY        0 non-null      object \n",
      " 7   Longitude   29 non-null     float64\n",
      " 8   Latitude    29 non-null     float64\n",
      "dtypes: float64(2), object(7)\n",
      "memory usage: 2.2+ KB\n",
      "None\n"
     ]
    },
    {
     "data": {
      "application/vnd.microsoft.datawrangler.viewer.v0+json": {
       "columns": [
        {
         "name": "index",
         "rawType": "int64",
         "type": "integer"
        },
        {
         "name": "CreateTime",
         "rawType": "object",
         "type": "string"
        },
        {
         "name": "Signal",
         "rawType": "object",
         "type": "string"
        },
        {
         "name": "Address",
         "rawType": "object",
         "type": "string"
        },
        {
         "name": "Location",
         "rawType": "object",
         "type": "string"
        },
        {
         "name": "Grid",
         "rawType": "object",
         "type": "string"
        },
        {
         "name": "MapX",
         "rawType": "object",
         "type": "unknown"
        },
        {
         "name": "MapY",
         "rawType": "object",
         "type": "unknown"
        },
        {
         "name": "Longitude",
         "rawType": "float64",
         "type": "float"
        },
        {
         "name": "Latitude",
         "rawType": "float64",
         "type": "float"
        }
       ],
       "ref": "66a242dc-a0ed-4a98-834e-5a302ed8b05e",
       "rows": [
        [
         "0",
         "2025-07-18T15:58:25",
         "TRAFFIC ACCIDENT",
         "SW 144TH CT / SW 56TH ST",
         "",
         "1623",
         null,
         null,
         "-80.42789976",
         "25.71399463"
        ],
        [
         "1",
         "2025-07-18T15:50:45",
         "TRAFFIC ACCIDENT",
         "14700 SW 26TH ST",
         "WALMART : LAT: <25.742604>  LONG: <-80.432621>",
         "1472",
         null,
         null,
         "-80.43262095",
         "25.74260378"
        ],
        [
         "2",
         "2025-07-18T15:50:36",
         "TRAFFIC ACCIDENT",
         "SW 72ND AVE / SW 47TH ST",
         "",
         "1595",
         null,
         null,
         "-80.31073663",
         "25.72637295"
        ],
        [
         "3",
         "2025-07-18T15:49:20",
         "TRAFFIC ACCIDENT WITH INJURIES",
         "7401 NW 73RD ST",
         "WENDYS P/LOT",
         "0849",
         null,
         null,
         "-80.3186518",
         "25.84005843"
        ],
        [
         "4",
         "2025-07-18T15:46:22",
         "TRAFFIC ACCIDENT",
         "7875 NW 12TH ST",
         "S FL CENTER FOR BEHAVIORAL HEALTH",
         "1210",
         null,
         null,
         "-80.32467502",
         "25.78296737"
        ]
       ],
       "shape": {
        "columns": 9,
        "rows": 5
       }
      },
      "text/html": [
       "<div>\n",
       "<style scoped>\n",
       "    .dataframe tbody tr th:only-of-type {\n",
       "        vertical-align: middle;\n",
       "    }\n",
       "\n",
       "    .dataframe tbody tr th {\n",
       "        vertical-align: top;\n",
       "    }\n",
       "\n",
       "    .dataframe thead th {\n",
       "        text-align: right;\n",
       "    }\n",
       "</style>\n",
       "<table border=\"1\" class=\"dataframe\">\n",
       "  <thead>\n",
       "    <tr style=\"text-align: right;\">\n",
       "      <th></th>\n",
       "      <th>CreateTime</th>\n",
       "      <th>Signal</th>\n",
       "      <th>Address</th>\n",
       "      <th>Location</th>\n",
       "      <th>Grid</th>\n",
       "      <th>MapX</th>\n",
       "      <th>MapY</th>\n",
       "      <th>Longitude</th>\n",
       "      <th>Latitude</th>\n",
       "    </tr>\n",
       "  </thead>\n",
       "  <tbody>\n",
       "    <tr>\n",
       "      <th>0</th>\n",
       "      <td>2025-07-18T15:58:25</td>\n",
       "      <td>TRAFFIC ACCIDENT</td>\n",
       "      <td>SW 144TH CT / SW 56TH ST</td>\n",
       "      <td></td>\n",
       "      <td>1623</td>\n",
       "      <td>None</td>\n",
       "      <td>None</td>\n",
       "      <td>-80.427900</td>\n",
       "      <td>25.713995</td>\n",
       "    </tr>\n",
       "    <tr>\n",
       "      <th>1</th>\n",
       "      <td>2025-07-18T15:50:45</td>\n",
       "      <td>TRAFFIC ACCIDENT</td>\n",
       "      <td>14700 SW 26TH ST</td>\n",
       "      <td>WALMART : LAT: &lt;25.742604&gt;  LONG: &lt;-80.432621&gt;</td>\n",
       "      <td>1472</td>\n",
       "      <td>None</td>\n",
       "      <td>None</td>\n",
       "      <td>-80.432621</td>\n",
       "      <td>25.742604</td>\n",
       "    </tr>\n",
       "    <tr>\n",
       "      <th>2</th>\n",
       "      <td>2025-07-18T15:50:36</td>\n",
       "      <td>TRAFFIC ACCIDENT</td>\n",
       "      <td>SW 72ND AVE / SW 47TH ST</td>\n",
       "      <td></td>\n",
       "      <td>1595</td>\n",
       "      <td>None</td>\n",
       "      <td>None</td>\n",
       "      <td>-80.310737</td>\n",
       "      <td>25.726373</td>\n",
       "    </tr>\n",
       "    <tr>\n",
       "      <th>3</th>\n",
       "      <td>2025-07-18T15:49:20</td>\n",
       "      <td>TRAFFIC ACCIDENT WITH INJURIES</td>\n",
       "      <td>7401 NW 73RD ST</td>\n",
       "      <td>WENDYS P/LOT</td>\n",
       "      <td>0849</td>\n",
       "      <td>None</td>\n",
       "      <td>None</td>\n",
       "      <td>-80.318652</td>\n",
       "      <td>25.840058</td>\n",
       "    </tr>\n",
       "    <tr>\n",
       "      <th>4</th>\n",
       "      <td>2025-07-18T15:46:22</td>\n",
       "      <td>TRAFFIC ACCIDENT</td>\n",
       "      <td>7875 NW 12TH ST</td>\n",
       "      <td>S FL CENTER FOR BEHAVIORAL HEALTH</td>\n",
       "      <td>1210</td>\n",
       "      <td>None</td>\n",
       "      <td>None</td>\n",
       "      <td>-80.324675</td>\n",
       "      <td>25.782967</td>\n",
       "    </tr>\n",
       "  </tbody>\n",
       "</table>\n",
       "</div>"
      ],
      "text/plain": [
       "            CreateTime                          Signal  \\\n",
       "0  2025-07-18T15:58:25                TRAFFIC ACCIDENT   \n",
       "1  2025-07-18T15:50:45                TRAFFIC ACCIDENT   \n",
       "2  2025-07-18T15:50:36                TRAFFIC ACCIDENT   \n",
       "3  2025-07-18T15:49:20  TRAFFIC ACCIDENT WITH INJURIES   \n",
       "4  2025-07-18T15:46:22                TRAFFIC ACCIDENT   \n",
       "\n",
       "                    Address                                        Location  \\\n",
       "0  SW 144TH CT / SW 56TH ST                                                   \n",
       "1          14700 SW 26TH ST  WALMART : LAT: <25.742604>  LONG: <-80.432621>   \n",
       "2  SW 72ND AVE / SW 47TH ST                                                   \n",
       "3           7401 NW 73RD ST                                    WENDYS P/LOT   \n",
       "4           7875 NW 12TH ST               S FL CENTER FOR BEHAVIORAL HEALTH   \n",
       "\n",
       "   Grid  MapX  MapY  Longitude   Latitude  \n",
       "0  1623  None  None -80.427900  25.713995  \n",
       "1  1472  None  None -80.432621  25.742604  \n",
       "2  1595  None  None -80.310737  25.726373  \n",
       "3  0849  None  None -80.318652  25.840058  \n",
       "4  1210  None  None -80.324675  25.782967  "
      ]
     },
     "execution_count": 8,
     "metadata": {},
     "output_type": "execute_result"
    }
   ],
   "source": [
    "# Remove duplicates\n",
    "df = df.drop_duplicates()\n",
    "print(df.info())\n",
    "df.head()"
   ]
  },
  {
   "cell_type": "code",
   "execution_count": 15,
   "id": "5960ea2a",
   "metadata": {},
   "outputs": [],
   "source": [
    "\n",
    "# Convert to Eastern Time, then to UTC\n",
    "df['CreateTime'] = pd.to_datetime(df['CreateTime']).dt.tz_localize('US/Eastern')\n",
    "df['CreateTime'] = df['CreateTime'].dt.tz_convert('UTC')\n",
    "\n",
    "# Convert Signal to categorical datatype\n",
    "df['Signal'] = df['Signal'].astype('category')"
   ]
  },
  {
   "cell_type": "code",
   "execution_count": 16,
   "id": "b99d8dd2",
   "metadata": {},
   "outputs": [
    {
     "name": "stdout",
     "output_type": "stream",
     "text": [
      "<class 'pandas.core.frame.DataFrame'>\n",
      "RangeIndex: 29 entries, 0 to 28\n",
      "Data columns (total 9 columns):\n",
      " #   Column      Non-Null Count  Dtype              \n",
      "---  ------      --------------  -----              \n",
      " 0   CreateTime  29 non-null     datetime64[ns, UTC]\n",
      " 1   Signal      29 non-null     category           \n",
      " 2   Address     29 non-null     object             \n",
      " 3   Location    29 non-null     object             \n",
      " 4   Grid        29 non-null     object             \n",
      " 5   MapX        0 non-null      object             \n",
      " 6   MapY        0 non-null      object             \n",
      " 7   Longitude   29 non-null     float64            \n",
      " 8   Latitude    29 non-null     float64            \n",
      "dtypes: category(1), datetime64[ns, UTC](1), float64(2), object(5)\n",
      "memory usage: 2.2+ KB\n"
     ]
    }
   ],
   "source": [
    "df.info()"
   ]
  },
  {
   "cell_type": "code",
   "execution_count": 11,
   "id": "0423a798",
   "metadata": {},
   "outputs": [
    {
     "name": "stdout",
     "output_type": "stream",
     "text": [
      "🔄 Connecting to BigQuery...\n",
      "✅ Connection successful! Found the following datasets:\n",
      "  - mdpd_traffic_data\n"
     ]
    }
   ],
   "source": [
    "# Connect to BigQuery\n",
    "# Enter Project ID\n",
    "project_id = input(\"Enter your GCP project ID: \") # miami-traffic\n",
    "\n",
    "# Enter the path to JSON key file\n",
    "key_path = getpass.getpass(\"Enter full path to your service account JSON key file: \")\n",
    "\n",
    "# Authenticate\n",
    "credentials = service_account.Credentials.from_service_account_file(key_path)\n",
    "client = bigquery.Client(credentials=credentials, project=project_id)\n",
    "\n",
    "# List datasets to test connection\n",
    "print(\"🔄 Connecting to BigQuery...\")\n",
    "datasets = list(client.list_datasets())\n",
    "if datasets:\n",
    "    print(\"✅ Connection successful! Found the following datasets:\")\n",
    "    for d in datasets:\n",
    "        print(f\"  - {d.dataset_id}\")\n",
    "else:\n",
    "    print(\"✅ Connected, but no datasets found in this project.\")"
   ]
  },
  {
   "cell_type": "code",
   "execution_count": 14,
   "id": "9179667b",
   "metadata": {},
   "outputs": [
    {
     "name": "stderr",
     "output_type": "stream",
     "text": [
      "/Users/steve/.pyenv/versions/portfolio_project_virtual_env/lib/python3.13/site-packages/google/cloud/bigquery/_pandas_helpers.py:484: FutureWarning: Loading pandas DataFrame into BigQuery will require pandas-gbq package version 0.26.1 or greater in the future. Tried to import pandas-gbq and got: No module named 'pandas_gbq'\n",
      "  warnings.warn(\n"
     ]
    },
    {
     "name": "stdout",
     "output_type": "stream",
     "text": [
      "✅ Data uploaded to BigQuery!\n"
     ]
    }
   ],
   "source": [
    "# Location to upload data (project->dataset->table name)\n",
    "table_id = \"miami-traffic.mdpd_traffic_data.mdpd_data\"\n",
    "\n",
    "# Append new data to table\n",
    "job = client.load_table_from_dataframe(df, table_id)\n",
    "job.result()  # indicates job is complete\n",
    "print(\"✅ Data uploaded to BigQuery!\")"
   ]
  }
 ],
 "metadata": {
  "kernelspec": {
   "display_name": "portfolio_project_virtual_env",
   "language": "python",
   "name": "python3"
  },
  "language_info": {
   "codemirror_mode": {
    "name": "ipython",
    "version": 3
   },
   "file_extension": ".py",
   "mimetype": "text/x-python",
   "name": "python",
   "nbconvert_exporter": "python",
   "pygments_lexer": "ipython3",
   "version": "3.13.5"
  }
 },
 "nbformat": 4,
 "nbformat_minor": 5
}
